{
 "cells": [
  {
   "cell_type": "code",
   "execution_count": null,
   "id": "median-ireland",
   "metadata": {
    "ExecuteTime": {
     "end_time": "2021-11-18T13:42:20.017352Z",
     "start_time": "2021-11-18T13:42:19.677098Z"
    }
   },
   "outputs": [],
   "source": [
    "import pandas as pd\n",
    "import matplotlib.pyplot as plt"
   ]
  },
  {
   "cell_type": "code",
   "execution_count": null,
   "id": "severe-strand",
   "metadata": {
    "ExecuteTime": {
     "end_time": "2021-11-18T12:39:18.551359Z",
     "start_time": "2021-11-18T12:39:18.530436Z"
    }
   },
   "outputs": [],
   "source": [
    "df = pd.read_csv('/Users/ansintsova/git_repos/mBARq/tests/expected_outcomes/mapping/map_annotate.csv', index_col=0)"
   ]
  },
  {
   "cell_type": "code",
   "execution_count": null,
   "id": "growing-worst",
   "metadata": {
    "ExecuteTime": {
     "end_time": "2021-11-18T12:39:22.482524Z",
     "start_time": "2021-11-18T12:39:22.452116Z"
    }
   },
   "outputs": [],
   "source": [
    "df.head()"
   ]
  },
  {
   "cell_type": "code",
   "execution_count": null,
   "id": "established-rating",
   "metadata": {
    "ExecuteTime": {
     "end_time": "2021-11-18T12:53:19.231426Z",
     "start_time": "2021-11-18T12:53:19.207700Z"
    }
   },
   "outputs": [],
   "source": [
    "pps = df[['sseqid', 'sstart', 'sstrand', 'barcode', 'cnt', 'total_count', 'multimap']]\n",
    "        # Find barcodes mapped to the same position\n",
    "collisions = (df.groupby(['sseqid', 'sstart']).barcode.nunique()\n",
    "                      .reset_index()\n",
    "                      .rename({'barcode': 'num_uniq_bc'}, axis=1))\n",
    "        # Get all the unique barcodes mapped to unique positions\n",
    "final_bcs = list(collisions[collisions.num_uniq_bc == 1].merge(pps, on=['sseqid', 'sstart']).barcode.values)\n",
    "        # Collisions are only positions with more than one bc mapped\n",
    "collisions = collisions[collisions.num_uniq_bc > 1]\n",
    "collisions = collisions.merge(pps, on=['sseqid', 'sstart'])\n"
   ]
  },
  {
   "cell_type": "code",
   "execution_count": null,
   "id": "pretty-isaac",
   "metadata": {
    "ExecuteTime": {
     "end_time": "2021-11-18T12:48:07.826850Z",
     "start_time": "2021-11-18T12:48:07.678638Z"
    }
   },
   "outputs": [],
   "source": [
    "coll = pps.groupby('sseqid').apply(pd.DataFrame.sort_values, 'sstart').drop(['sseqid'], axis=1).reset_index()\n",
    "collision_index = list(coll[(coll.sstart.diff() < 5) & (coll.sstart.diff() >= 0)].index)\n",
    "collision_index.extend([i-1 for i in collision_index if i-1 not in collision_index])\n",
    "collision_index.sort()\n",
    "unique = coll[~coll.index.isin(collision_index)]\n",
    "collisions = coll.iloc[collision_index]\n",
    "\n",
    "def row_to_barcode(structure, row, ):\n",
    "    bc = Barcode(structure)\n",
    "    bc.bc_seq = r.barcode\n",
    "    bc.chr = r.sseqid\n",
    "    bc.sstart = r.sstart\n",
    "    bc.send = r.send\n",
    "    bc.strand = r.sstrand\n",
    "    bc.multimap = r.multimap\n",
    "    bc.count = r.total_count\n",
    "    return bc\n",
    "\n",
    "\n",
    "bcs = []\n",
    "final_bcs = []\n",
    "for i, r in collisions.iterrows():\n",
    "    bcs.append(row_to_barcode('GTGTATAAGAGACAG:17:13:before', r))\n",
    "\n",
    "for i, r in unique.iterrows():\n",
    "    final_bcs.append(row_to_barcode('GTGTATAAGAGACAG:17:13:before', r))\n",
    "    \n",
    "bc = bcs.pop(0)\n",
    "cnt = bc.count\n",
    "while len(bcs) > 0:\n",
    "    bc2 = bcs.pop(0)\n",
    "    if bc.chr != bc2.chr or abs(bc.sstart - bc2.sstart) > 5:\n",
    "        bc.count = cnt \n",
    "        final_bcs.append(bc)\n",
    "        bc = bc2\n",
    "        cnt = bc2.count\n",
    "    else:\n",
    "        if bc.editdistance(bc2) > 3:\n",
    "            bc.count = cnt\n",
    "    \n",
    "            final_bcs.append(bc)\n",
    "            bc = bc2\n",
    "            cnt = bc2.count\n",
    "        else:\n",
    "            cnt += bc2.count\n",
    "            if bc.count <  bc2.count:\n",
    "                bc = bc2\n",
    "ftest1 = pd.DataFrame([[bc.chr, bc.sstart, bc.bc_seq, bc.count] for bc in final_bcs], columns=['sseqid', 'sstart', 'barcode', 'total_count'])"
   ]
  },
  {
   "cell_type": "code",
   "execution_count": null,
   "id": "regular-edwards",
   "metadata": {
    "ExecuteTime": {
     "end_time": "2021-11-18T13:27:32.227951Z",
     "start_time": "2021-11-18T13:27:32.173516Z"
    }
   },
   "outputs": [],
   "source": [
    "pps = df[['sseqid', 'sstart', 'sstrand', 'barcode', 'total_count', 'multimap']]\n",
    "positions_sorted = (pps.groupby('sseqid')\n",
    "        .apply(pd.DataFrame.sort_values, 'sstart')\n",
    "        .drop(['sseqid'], axis=1)\n",
    "        .reset_index()\n",
    "        .drop(['level_1'], axis=1))\n",
    "\n",
    "# Get indices for rows with collisions\n",
    "collision_index = list(positions_sorted[(positions_sorted.sstart.diff() < 5) & (positions_sorted.sstart.diff() >= 0)].index)\n",
    "collision_index.extend([i-1 for i in collision_index if i-1 not in collision_index])\n",
    "collision_index.sort()\n",
    "\n",
    "# Barcodes without collisions\n",
    "\n",
    "unique = positions_sorted[~positions_sorted.index.isin(collision_index)]\n",
    "\n",
    "collisions = positions_sorted.iloc[collision_index]\n",
    "\n",
    "def row_to_barcode(structure, row):\n",
    "    bc = Barcode(structure)\n",
    "    bc.bc_seq = row.barcode\n",
    "    bc.chr = row.sseqid\n",
    "    bc.sstart = row.sstart\n",
    "    bc.strand = row.sstrand\n",
    "    bc.multimap = row.multimap\n",
    "    bc.count = row.total_count\n",
    "    return bc\n",
    "\n",
    "\n",
    "bcs = []\n",
    "final_bcs = []\n",
    "for i, r in collisions.iterrows():\n",
    "    bcs.append(row_to_barcode('GTGTATAAGAGACAG:17:13:before', r))\n",
    "    \n",
    "bc = bcs.pop(0)\n",
    "cnt = bc.count\n",
    "while len(bcs) > 0:\n",
    "    bc2 = bcs.pop(0)\n",
    "    if bc.chr != bc2.chr or abs(bc.sstart - bc2.sstart) > 5:\n",
    "        bc.count = cnt \n",
    "        final_bcs.append(bc)\n",
    "        bc = bc2\n",
    "        cnt = bc2.count\n",
    "    else:\n",
    "        if bc.editdistance(bc2) > 3:\n",
    "            bc.count = cnt\n",
    "            final_bcs.append(bc)\n",
    "            bc = bc2\n",
    "            cnt = bc2.count\n",
    "        else:\n",
    "            cnt += bc2.count\n",
    "            if bc.count <  bc2.count:\n",
    "                bc = bc2\n",
    "if bc not in final_bcs:\n",
    "    final_bcs.append(bc)\n",
    "resolved_collisions = (pd.DataFrame([[bc.chr, bc.sstart, bc.strand,  bc.bc_seq, bc.count, bc.multimap] for bc in final_bcs], \n",
    "                                    columns=['sseqid', 'sstart', 'sstrand', 'barcode', 'total_count', 'multimap']))\n",
    "\n",
    "ftest = pd.concat([ unique, resolved_collisions])"
   ]
  },
  {
   "cell_type": "code",
   "execution_count": null,
   "id": "dramatic-guest",
   "metadata": {
    "ExecuteTime": {
     "end_time": "2021-11-18T14:00:41.363599Z",
     "start_time": "2021-11-18T14:00:41.345620Z"
    }
   },
   "outputs": [],
   "source": [
    "ftest[['barcode', 'total_count', 'sstart',\n",
    "       'sseqid', 'sstrand', 'multimap']].to_csv(\"/Users/ansintsova/git_repos/mbarq/tests/\"\\\n",
    "                                                \"expected_outcomes/mapping/merge_colliding_bcs_new.csv\")"
   ]
  },
  {
   "cell_type": "code",
   "execution_count": null,
   "id": "contemporary-petroleum",
   "metadata": {
    "ExecuteTime": {
     "end_time": "2021-11-18T13:58:33.486401Z",
     "start_time": "2021-11-18T13:58:33.467446Z"
    }
   },
   "outputs": [],
   "source": [
    "old_resolved\n"
   ]
  },
  {
   "cell_type": "code",
   "execution_count": null,
   "id": "improved-benchmark",
   "metadata": {
    "ExecuteTime": {
     "end_time": "2021-11-18T13:41:17.568344Z",
     "start_time": "2021-11-18T13:41:17.558818Z"
    }
   },
   "outputs": [],
   "source": [
    "old_resolved = pd.read_csv(\"/Users/ansintsova/git_repos/mbarq/tests/expected_outcomes/mapping/merge_colliding_bcs.csv\")"
   ]
  },
  {
   "cell_type": "code",
   "execution_count": null,
   "id": "otherwise-electric",
   "metadata": {
    "ExecuteTime": {
     "end_time": "2021-11-18T13:41:19.067228Z",
     "start_time": "2021-11-18T13:41:19.048117Z"
    }
   },
   "outputs": [],
   "source": [
    "old_resolved"
   ]
  },
  {
   "cell_type": "code",
   "execution_count": null,
   "id": "improved-constant",
   "metadata": {
    "ExecuteTime": {
     "end_time": "2021-11-18T13:40:44.683138Z",
     "start_time": "2021-11-18T13:40:44.659612Z"
    }
   },
   "outputs": [],
   "source": [
    "ftest"
   ]
  },
  {
   "cell_type": "code",
   "execution_count": null,
   "id": "beginning-month",
   "metadata": {
    "ExecuteTime": {
     "end_time": "2021-11-18T13:06:53.376958Z",
     "start_time": "2021-11-18T13:06:53.372599Z"
    }
   },
   "outputs": [],
   "source": [
    "old_resolved.columns = [f'old_{c}' if c != 'barcode' else c for c in old_resolved.columns ]"
   ]
  },
  {
   "cell_type": "code",
   "execution_count": null,
   "id": "turkish-insertion",
   "metadata": {
    "ExecuteTime": {
     "end_time": "2021-11-18T13:09:02.446685Z",
     "start_time": "2021-11-18T13:09:02.431861Z"
    }
   },
   "outputs": [],
   "source": [
    "test = ftest.merge(old_resolved, how='outer', on='barcode')"
   ]
  },
  {
   "cell_type": "code",
   "execution_count": null,
   "id": "meaning-environment",
   "metadata": {
    "ExecuteTime": {
     "end_time": "2021-11-18T13:49:13.819598Z",
     "start_time": "2021-11-18T13:49:13.815637Z"
    }
   },
   "outputs": [],
   "source": [
    "with_collisions = list(pps.barcode.values)\n",
    "without_collisions = list(ftest.barcode.values)"
   ]
  },
  {
   "cell_type": "code",
   "execution_count": null,
   "id": "renewable-madison",
   "metadata": {
    "ExecuteTime": {
     "end_time": "2021-11-18T13:47:59.318982Z",
     "start_time": "2021-11-18T13:47:59.312829Z"
    }
   },
   "outputs": [],
   "source": [
    "def editdist(x,y):\n",
    "    dist = 0\n",
    "    for letter1, letter2 in zip(x, y):\n",
    "        if letter1 != letter2:\n",
    "            dist += 1\n",
    "    return dist"
   ]
  },
  {
   "cell_type": "code",
   "execution_count": null,
   "id": "hindu-principle",
   "metadata": {
    "ExecuteTime": {
     "end_time": "2021-11-18T13:52:41.393580Z",
     "start_time": "2021-11-18T13:52:39.971998Z"
    }
   },
   "outputs": [],
   "source": [
    "import random\n",
    "edits = []\n",
    "edits2 = []\n",
    "for i in range(100000):\n",
    "    x, y = random.sample(with_collisions, 2)\n",
    "    m,n = random.sample(without_collisions, 2)\n",
    "    edits.append(editdist(x, y))\n",
    "    edits2.append(editdist(m, n))\n",
    "pd.Series(edits).hist(bins=100)\n",
    "pd.Series(edits2).hist(bins=100)\n",
    "plt.xlim(0,5.5 )\n",
    "plt.ylim(0, 40)"
   ]
  },
  {
   "cell_type": "code",
   "execution_count": null,
   "id": "sexual-morrison",
   "metadata": {
    "ExecuteTime": {
     "end_time": "2021-11-18T13:50:53.994853Z",
     "start_time": "2021-11-18T13:50:53.987817Z"
    }
   },
   "outputs": [],
   "source": []
  },
  {
   "cell_type": "code",
   "execution_count": null,
   "id": "viral-glucose",
   "metadata": {
    "ExecuteTime": {
     "end_time": "2021-11-18T13:50:41.926084Z",
     "start_time": "2021-11-18T13:50:41.794881Z"
    }
   },
   "outputs": [],
   "source": [
    "plt.plot(test.total_count, test.old_cnt, '.k')\n",
    "plt.xlim(0, 25)\n",
    "plt.ylim(0,25)"
   ]
  },
  {
   "cell_type": "code",
   "execution_count": null,
   "id": "stupid-broadway",
   "metadata": {
    "ExecuteTime": {
     "end_time": "2021-11-11T15:15:34.882023Z",
     "start_time": "2021-11-11T15:15:34.873364Z"
    }
   },
   "outputs": [],
   "source": [
    "final = pd.concat([unique, col_resolved])"
   ]
  },
  {
   "cell_type": "code",
   "execution_count": null,
   "id": "legislative-publicity",
   "metadata": {
    "ExecuteTime": {
     "end_time": "2021-11-11T15:23:28.720740Z",
     "start_time": "2021-11-11T15:23:28.706356Z"
    }
   },
   "outputs": [],
   "source": [
    "y = final.merge(res, how='outer', on='barcode')[['sseqid_x', 'sseqid_y', 'sstart_x', 'sstart_y', 'barcode', 'total_count', 'cnt_y']]"
   ]
  },
  {
   "cell_type": "code",
   "execution_count": null,
   "id": "threaded-conspiracy",
   "metadata": {
    "ExecuteTime": {
     "end_time": "2021-11-11T15:23:57.248831Z",
     "start_time": "2021-11-11T15:23:57.233054Z"
    }
   },
   "outputs": [],
   "source": [
    "y[y.sstart_y.isna()]"
   ]
  },
  {
   "cell_type": "code",
   "execution_count": null,
   "id": "built-funeral",
   "metadata": {
    "ExecuteTime": {
     "end_time": "2021-11-11T15:21:20.689930Z",
     "start_time": "2021-11-11T15:21:20.675465Z"
    }
   },
   "outputs": [],
   "source": [
    "coll.iloc[[424, 425]]"
   ]
  },
  {
   "cell_type": "code",
   "execution_count": null,
   "id": "needed-january",
   "metadata": {
    "ExecuteTime": {
     "end_time": "2021-11-11T15:19:18.891783Z",
     "start_time": "2021-11-11T15:19:18.876961Z"
    }
   },
   "outputs": [],
   "source": [
    "coll[coll.sstart == 67688]"
   ]
  },
  {
   "cell_type": "code",
   "execution_count": null,
   "id": "broken-thesis",
   "metadata": {
    "ExecuteTime": {
     "end_time": "2021-11-11T15:20:48.773563Z",
     "start_time": "2021-11-11T15:20:48.759480Z"
    }
   },
   "outputs": [],
   "source": [
    "coll[coll.barcode == 'CATAAATCCTTTGCACC']"
   ]
  },
  {
   "cell_type": "code",
   "execution_count": null,
   "id": "everyday-arizona",
   "metadata": {
    "ExecuteTime": {
     "end_time": "2021-11-11T13:37:02.484838Z",
     "start_time": "2021-11-11T13:37:02.481263Z"
    }
   },
   "outputs": [],
   "source": [
    "from typing import Optional"
   ]
  },
  {
   "cell_type": "code",
   "execution_count": null,
   "id": "sudden-commissioner",
   "metadata": {
    "ExecuteTime": {
     "end_time": "2021-11-18T12:42:10.521284Z",
     "start_time": "2021-11-18T12:42:10.509080Z"
    }
   },
   "outputs": [],
   "source": [
    "class InputFileError(Exception):\n",
    "    pass\n",
    "\n",
    "\n",
    "class FastA(object):\n",
    "    '''\n",
    "    Standard data container for fasta sequences\n",
    "    '''\n",
    "    __slots__ = ['header', 'sequence']\n",
    "\n",
    "    def __init__(self, header: str, sequence: str) -> None:\n",
    "        self.header = header\n",
    "        self.sequence = sequence\n",
    "\n",
    "\n",
    "class Barcode:\n",
    "    def __init__(self, structure):\n",
    "        self.structure: str = structure\n",
    "        self.bc_seq: Optional[str] = None\n",
    "        self.host: Optional[str] = None\n",
    "        self.bc_len: int\n",
    "        self.tn_seq: str\n",
    "        self.count: int = 0\n",
    "        self.tn_before_bc: bool\n",
    "        self.len_spacer: int\n",
    "        # In theory these are optional\n",
    "        self.host: str\n",
    "        self.start: int\n",
    "        self.end: int\n",
    "        self.chr: str\n",
    "        self.identifiers: List[str]\n",
    "        self.eval: float\n",
    "        self.bitscore: float\n",
    "        self.alignment_len: int\n",
    "        self._parse_structure()\n",
    "\n",
    "    def _parse_structure(self):\n",
    "        self.tn_seq = self.structure.split(':')[0]\n",
    "        self.len_spacer = int(self.structure.split(':')[2])\n",
    "        self.bc_len = int(self.structure.split(':')[1])\n",
    "        self.tn_before_bc = True if self.structure.split(':')[3] == 'before' else False\n",
    "\n",
    "    def editdistance(self, other_barcode) -> int:\n",
    "        '''\n",
    "        Calculate the edit distance between 2 sequences with identical length.\n",
    "        Will throw an error if the length of both sequences differs\n",
    "        :param seq1:\n",
    "        :param seq2:\n",
    "        :return:\n",
    "        '''\n",
    "        if not self.bc_seq or not other_barcode.bc_seq:\n",
    "            raise Exception(\"Could not find sequence for one or more barcodes\")\n",
    "        if self.bc_seq == other_barcode.bc_seq:\n",
    "            return 0\n",
    "        if len(self.bc_seq) != len(other_barcode.bc_seq):\n",
    "            raise Exception(\n",
    "                f'{self.bc_seq} and {other_barcode.bc_seq} have different length. Edit distance can be computed on same length sequences only.')\n",
    "        dist = 0\n",
    "        for letter1, letter2 in zip(self.bc_seq, other_barcode.bc_seq):\n",
    "            if letter1 != letter2:\n",
    "                dist += 1\n",
    "        return dist\n",
    "\n",
    "    def extract_barcode_host(self, r1: FastA) -> None:\n",
    "        '''\n",
    "       Extract barcode and host sequence from read with tp2.\n",
    "       Return (None, None) if the barcode sequence is not complete (17bp)\n",
    "        :param r1:\n",
    "        :return:\n",
    "\n",
    "        -----|BARCODE|----------|TN end sequence (tp2)|---Host------\n",
    "        -----|-bc_len-|--len_spacer--|---------tn_seq---------|-------------\n",
    "        -----|-17bp--|---13bp---|---------15bp--------|----?--------\n",
    "         ---(-30)---(-13)-------(0)---------------------------------\n",
    "        '''\n",
    "\n",
    "        splits: List[str] = r1.sequence.split(self.tn_seq)  # check that tn in sequence?\n",
    "        if self.tn_before_bc:\n",
    "            bc_start = -(self.bc_len + self.len_spacer)\n",
    "            bc_end = -self.len_spacer\n",
    "            bc_seq = splits[0]\n",
    "            host_seq = splits[1]\n",
    "        else:\n",
    "            bc_start = self.len_spacer\n",
    "            bc_end = self.len_spacer + self.bc_len\n",
    "            bc_seq = splits[1]\n",
    "            host_seq = splits[0]\n",
    "\n",
    "        if len(bc_seq) >= self.len_spacer + self.bc_len:\n",
    "            self.bc_seq = bc_seq[bc_start:bc_end]\n",
    "            self.host = host_seq"
   ]
  },
  {
   "cell_type": "code",
   "execution_count": null,
   "id": "reduced-female",
   "metadata": {
    "ExecuteTime": {
     "end_time": "2021-11-11T15:15:06.463173Z",
     "start_time": "2021-11-11T15:15:06.450983Z"
    }
   },
   "outputs": [],
   "source": [
    "def merge_colliding_bcs(potential_positions: pd.DataFrame, edit_dist=3, logger= logging.getLogger()) -> pd.DataFrame:\n",
    "    \"\"\"\n",
    "\n",
    "    Takes output of new_map_annotate, and merges colliding barcodes\n",
    "\n",
    "    \"\"\"\n",
    "    pps = potential_positions[['sseqid', 'sstart', 'send', 'sstrand', 'barcode', 'cnt', 'total_count', 'multimap']]\n",
    "    # Find barcodes mapped to the same position\n",
    "    collisions = (potential_positions.groupby(['sseqid', 'sstart']).barcode.nunique()\n",
    "                  .reset_index().rename({'barcode': 'num_uniq_bc'}, axis=1))\n",
    "    # Get all the unique barcodes mapped to unique positions\n",
    "    final_bcs = list(collisions[collisions.num_uniq_bc == 1].merge(pps, on=['sseqid', 'sstart']).barcode.values)\n",
    "    # Collisions are only positions with more than one bc mapped\n",
    "    collisions = collisions[collisions.num_uniq_bc > 1]\n",
    "    collisions = collisions.merge(pps, on=['sseqid', 'sstart'])\n",
    "    logger.info(f'Number of collissions: {collisions.shape[0]}')\n",
    "\n",
    "    for position, df in collisions.groupby(['sseqid', 'sstart']):  # todo refactor\n",
    "        # Get the barcode that was seen the most\n",
    "        bc_idx = df.total_count.astype(int).idxmax()\n",
    "        # That is likely the correct barcode\n",
    "        likely_barcode = df.loc[bc_idx].barcode\n",
    "        all_barcodes = list(df.barcode.values)\n",
    "        all_barcodes.remove(likely_barcode)\n",
    "        final_bcs.append(likely_barcode)\n",
    "\n",
    "        # Check if edit distance of all other barcodes is > than specified, if yes, add it to the list as well\n",
    "        # (or should ignore it? Different list? is this where other library contamination comes in?)\n",
    "        for bc in all_barcodes:\n",
    "            ced = editdistance(bc, likely_barcode)\n",
    "            if ced > edit_dist:\n",
    "                final_bcs.append(bc)\n",
    "\n",
    "    barcode_map = pps[pps.barcode.isin(final_bcs)][\n",
    "        ['barcode', 'cnt', 'sstart', 'send', 'sseqid', 'sstrand', 'multimap']]\n",
    "    barcode_map = barcode_map.set_index('barcode')\n",
    "    return barcode_map"
   ]
  },
  {
   "cell_type": "code",
   "execution_count": null,
   "id": "assumed-mainstream",
   "metadata": {
    "ExecuteTime": {
     "end_time": "2021-11-11T14:34:43.342030Z",
     "start_time": "2021-11-11T14:34:43.338768Z"
    }
   },
   "outputs": [],
   "source": [
    "import logging"
   ]
  },
  {
   "cell_type": "code",
   "execution_count": null,
   "id": "lonely-ethiopia",
   "metadata": {
    "ExecuteTime": {
     "end_time": "2021-11-11T15:15:13.718336Z",
     "start_time": "2021-11-11T15:15:13.648198Z"
    }
   },
   "outputs": [],
   "source": [
    "res = merge_colliding_bcs(df)"
   ]
  },
  {
   "cell_type": "code",
   "execution_count": null,
   "id": "through-mystery",
   "metadata": {
    "ExecuteTime": {
     "end_time": "2021-11-11T15:15:19.119390Z",
     "start_time": "2021-11-11T15:15:19.113635Z"
    }
   },
   "outputs": [],
   "source": [
    "res.shape"
   ]
  },
  {
   "cell_type": "code",
   "execution_count": null,
   "id": "lyric-astronomy",
   "metadata": {
    "ExecuteTime": {
     "end_time": "2021-11-11T14:35:35.512669Z",
     "start_time": "2021-11-11T14:35:35.505781Z"
    }
   },
   "outputs": [],
   "source": [
    "def editdistance(seq1: str, seq2: str) -> int:\n",
    "    '''\n",
    "    Calculate the edit distance between 2 sequences with identical length.\n",
    "    Will throw an error if the length of both sequences differs\n",
    "    :param seq1:\n",
    "    :param seq2:\n",
    "    :return:\n",
    "    '''\n",
    "\n",
    "    if seq1 == seq2:\n",
    "        return 0\n",
    "    if len(seq1) != len(seq2):\n",
    "        raise Exception(f'{seq1} and {seq2} have different length. Edit distance can be computed on same length sequences only.')\n",
    "    dist = 0\n",
    "    for letter1, letter2 in zip(seq1, seq2):\n",
    "        if letter1 != letter2:\n",
    "            dist += 1\n",
    "    return dist"
   ]
  },
  {
   "cell_type": "code",
   "execution_count": null,
   "id": "piano-incentive",
   "metadata": {},
   "outputs": [],
   "source": []
  }
 ],
 "metadata": {
  "kernelspec": {
   "display_name": "Python 3",
   "language": "python",
   "name": "python3"
  },
  "language_info": {
   "codemirror_mode": {
    "name": "ipython",
    "version": 3
   },
   "file_extension": ".py",
   "mimetype": "text/x-python",
   "name": "python",
   "nbconvert_exporter": "python",
   "pygments_lexer": "ipython3",
   "version": "3.6.6"
  },
  "toc": {
   "base_numbering": 1,
   "nav_menu": {},
   "number_sections": true,
   "sideBar": true,
   "skip_h1_title": false,
   "title_cell": "Table of Contents",
   "title_sidebar": "Contents",
   "toc_cell": false,
   "toc_position": {},
   "toc_section_display": true,
   "toc_window_display": false
  }
 },
 "nbformat": 4,
 "nbformat_minor": 5
}
