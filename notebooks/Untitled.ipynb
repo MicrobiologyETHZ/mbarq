{
 "cells": [
  {
   "cell_type": "code",
   "execution_count": null,
   "id": "coastal-comment",
   "metadata": {
    "ExecuteTime": {
     "end_time": "2021-11-25T12:28:07.767276Z",
     "start_time": "2021-11-25T12:28:06.721244Z"
    }
   },
   "outputs": [],
   "source": [
    "import pandas as pd"
   ]
  },
  {
   "cell_type": "code",
   "execution_count": null,
   "id": "faced-entry",
   "metadata": {
    "ExecuteTime": {
     "end_time": "2021-11-25T12:28:10.602455Z",
     "start_time": "2021-11-25T12:28:10.457952Z"
    }
   },
   "outputs": [],
   "source": [
    "%ls"
   ]
  },
  {
   "cell_type": "code",
   "execution_count": null,
   "id": "interpreted-clerk",
   "metadata": {
    "ExecuteTime": {
     "end_time": "2021-11-25T12:53:45.274334Z",
     "start_time": "2021-11-25T12:53:45.227681Z"
    }
   },
   "outputs": [],
   "source": [
    "file = \"tests/tmp/library_13_1_1.bed.closest.tab\"\n",
    "df = pd.read_table(file, header=None)\n",
    "df.columns = ['seq', 'feature', 'position', 'gene_info', 'barcode', 'dist']"
   ]
  },
  {
   "cell_type": "code",
   "execution_count": null,
   "id": "judicial-grass",
   "metadata": {
    "ExecuteTime": {
     "end_time": "2021-11-25T12:53:47.443855Z",
     "start_time": "2021-11-25T12:53:47.427667Z"
    }
   },
   "outputs": [],
   "source": [
    "df.head(20)"
   ]
  },
  {
   "cell_type": "code",
   "execution_count": null,
   "id": "capital-cologne",
   "metadata": {
    "ExecuteTime": {
     "end_time": "2021-11-25T12:53:58.545381Z",
     "start_time": "2021-11-25T12:53:58.540689Z"
    }
   },
   "outputs": [],
   "source": [
    "\n",
    "def get_all_genes_with_min_distance(df):\n",
    "    minv = df['dist'].min()\n",
    "    return df[df[dist] == minv]\n",
    "\n"
   ]
  },
  {
   "cell_type": "code",
   "execution_count": null,
   "id": "disabled-snapshot",
   "metadata": {
    "ExecuteTime": {
     "end_time": "2021-11-25T12:54:01.313219Z",
     "start_time": "2021-11-25T12:54:00.460199Z"
    }
   },
   "outputs": [],
   "source": [
    "x = df.groupby('barcode').apply(get_all_min).drop(['barcode'], axis=1).reset_index()"
   ]
  },
  {
   "cell_type": "code",
   "execution_count": null,
   "id": "expected-entrepreneur",
   "metadata": {
    "ExecuteTime": {
     "end_time": "2021-11-25T12:54:03.134041Z",
     "start_time": "2021-11-25T12:54:03.119912Z"
    }
   },
   "outputs": [],
   "source": [
    "x.head()"
   ]
  },
  {
   "cell_type": "code",
   "execution_count": null,
   "id": "still-blackberry",
   "metadata": {
    "ExecuteTime": {
     "end_time": "2021-11-25T12:31:48.915206Z",
     "start_time": "2021-11-25T12:31:48.908240Z"
    }
   },
   "outputs": [],
   "source": []
  },
  {
   "cell_type": "code",
   "execution_count": null,
   "id": "violent-tucson",
   "metadata": {},
   "outputs": [],
   "source": []
  }
 ],
 "metadata": {
  "kernelspec": {
   "display_name": "Python 3",
   "language": "python",
   "name": "python3"
  },
  "language_info": {
   "codemirror_mode": {
    "name": "ipython",
    "version": 3
   },
   "file_extension": ".py",
   "mimetype": "text/x-python",
   "name": "python",
   "nbconvert_exporter": "python",
   "pygments_lexer": "ipython3",
   "version": "3.6.6"
  },
  "toc": {
   "base_numbering": 1,
   "nav_menu": {},
   "number_sections": true,
   "sideBar": true,
   "skip_h1_title": false,
   "title_cell": "Table of Contents",
   "title_sidebar": "Contents",
   "toc_cell": false,
   "toc_position": {},
   "toc_section_display": true,
   "toc_window_display": false
  }
 },
 "nbformat": 4,
 "nbformat_minor": 5
}
