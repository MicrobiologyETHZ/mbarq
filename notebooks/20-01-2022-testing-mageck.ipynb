{
 "cells": [
  {
   "cell_type": "code",
   "execution_count": null,
   "id": "irish-henry",
   "metadata": {
    "ExecuteTime": {
     "end_time": "2022-01-20T11:39:59.882941Z",
     "start_time": "2022-01-20T11:39:58.240002Z"
    }
   },
   "outputs": [],
   "source": [
    "# %load /Users/ansintsova/git_repos/snippets/basic_settings.py\n",
    "import pandas as pd\n",
    "import numpy as np\n",
    "import matplotlib.pyplot as plt\n",
    "import seaborn as sns\n",
    "from pathlib import Path\n",
    "\n",
    "\n",
    "sns.set_context(\"notebook\", font_scale=1.1)\n",
    "pd.set_option(\"display.max_columns\", 100)\n",
    "pd.set_option(\"display.max_rows\", 100)\n",
    "plt.rcParams[\"figure.figsize\"] = (16, 12)\n",
    "plt.rcParams['savefig.dpi'] = 200\n",
    "plt.rcParams['figure.autolayout'] = False\n",
    "plt.rcParams['axes.labelsize'] = 18\n",
    "plt.rcParams['axes.titlesize'] = 20\n",
    "plt.rcParams['font.size'] = 16\n",
    "plt.rcParams['lines.linewidth'] = 2.0\n",
    "plt.rcParams['lines.markersize'] = 8\n",
    "plt.rcParams['legend.fontsize'] = 14\n",
    "plt.rcParams['text.usetex'] = False  # True activates latex output in fonts!\n",
    "plt.rcParams['font.family'] = \"serif\"\n",
    "plt.rcParams['font.serif'] = \"cm\"\n",
    "pd.set_option('display.float_format', lambda x: '{:,.2f}'.format(x))"
   ]
  },
  {
   "cell_type": "code",
   "execution_count": null,
   "id": "renewable-convert",
   "metadata": {
    "ExecuteTime": {
     "end_time": "2022-01-20T15:06:28.682617Z",
     "start_time": "2022-01-20T15:06:28.675396Z"
    }
   },
   "outputs": [],
   "source": [
    "%pwd"
   ]
  },
  {
   "cell_type": "code",
   "execution_count": null,
   "id": "brief-bedroom",
   "metadata": {
    "ExecuteTime": {
     "end_time": "2022-01-20T15:06:49.324627Z",
     "start_time": "2022-01-20T15:06:49.321130Z"
    }
   },
   "outputs": [],
   "source": [
    "dataDir = Path(\"/Users/ansintsova/git_repos/nguyenb_tnseq/data/mageck_test\")"
   ]
  },
  {
   "cell_type": "code",
   "execution_count": null,
   "id": "identical-calcium",
   "metadata": {
    "ExecuteTime": {
     "end_time": "2022-01-20T12:08:54.564151Z",
     "start_time": "2022-01-20T12:08:54.527093Z"
    }
   },
   "outputs": [],
   "source": [
    "df1 = pd.read_table(dataDir/\"test1.gene_summary.txt\") # library 10_1 no negative cntrl\n",
    "df2 =  pd.read_table(dataDir/\"test2.gene_summary.txt\") # library 10_1 with negative cntrl\n",
    "df3 = pd.read_table(dataDir/\"test3.gene_summary.txt\") # library 14_2 w/o batch correction\n",
    "df4 =  pd.read_table(dataDir\"test4.gene_summary.txt\") # library 14_2 w batch correction\n",
    "df5 =  pd.read_table(dataDir\"test5.gene_summary.txt\") # library 14_2 with different norm-method (negCntrl)"
   ]
  },
  {
   "cell_type": "code",
   "execution_count": null,
   "id": "subtle-tracker",
   "metadata": {
    "ExecuteTime": {
     "end_time": "2022-01-20T10:41:14.202531Z",
     "start_time": "2022-01-20T10:41:14.181869Z"
    }
   },
   "outputs": [],
   "source": [
    "df1[df1['neg|fdr'] < 0.05]"
   ]
  },
  {
   "cell_type": "code",
   "execution_count": null,
   "id": "juvenile-receiver",
   "metadata": {
    "ExecuteTime": {
     "end_time": "2022-01-20T10:41:21.305741Z",
     "start_time": "2022-01-20T10:41:21.276993Z"
    }
   },
   "outputs": [],
   "source": [
    "df2[df2['neg|fdr'] < 0.05]"
   ]
  },
  {
   "cell_type": "code",
   "execution_count": null,
   "id": "choice-turning",
   "metadata": {
    "ExecuteTime": {
     "end_time": "2022-01-20T11:56:17.439164Z",
     "start_time": "2022-01-20T11:56:17.416818Z"
    }
   },
   "outputs": [],
   "source": [
    "df6 = pd.read_csv(\"library_14_2-results-d1.csv\", index_col=0, sep=' ')\n",
    "df6 = df6[['log2FoldChange', 'padj']].reset_index()\n",
    "df6.columns = ['id', 'neg|lfc', 'neg|fdr']\n",
    "df6['source'] = 'deseq'\n",
    "df6.sample(5)\n"
   ]
  },
  {
   "cell_type": "code",
   "execution_count": null,
   "id": "described-image",
   "metadata": {
    "ExecuteTime": {
     "end_time": "2022-01-20T11:57:02.720758Z",
     "start_time": "2022-01-20T11:57:02.712315Z"
    }
   },
   "outputs": [],
   "source": [
    "df3[df3['neg|fdr'] < 0.05]\n",
    "\n",
    "df3 = df3[['id', 'neg|lfc', 'neg|fdr']].copy()\n",
    "df3['source'] = 'NoBatchCorr'"
   ]
  },
  {
   "cell_type": "code",
   "execution_count": null,
   "id": "dynamic-judge",
   "metadata": {
    "ExecuteTime": {
     "end_time": "2022-01-20T11:57:03.293884Z",
     "start_time": "2022-01-20T11:57:03.285042Z"
    }
   },
   "outputs": [],
   "source": [
    "df4[df4['neg|fdr'] < 0.05]\n",
    "df4 = df4[['id', 'neg|lfc', 'neg|fdr']].copy()\n",
    "df4['source'] = 'BatchCorr'"
   ]
  },
  {
   "cell_type": "code",
   "execution_count": null,
   "id": "italic-sheep",
   "metadata": {
    "ExecuteTime": {
     "end_time": "2022-01-20T11:57:12.265007Z",
     "start_time": "2022-01-20T11:57:12.251177Z"
    }
   },
   "outputs": [],
   "source": [
    "df = pd.concat([df3, df4, df6], axis=0)\n",
    "df.sample(5)"
   ]
  },
  {
   "cell_type": "code",
   "execution_count": null,
   "id": "scenic-engineer",
   "metadata": {
    "ExecuteTime": {
     "end_time": "2022-01-20T12:01:39.111810Z",
     "start_time": "2022-01-20T12:01:39.107682Z"
    }
   },
   "outputs": [],
   "source": [
    "sig  = df[df['neg|fdr'] < 0.05]"
   ]
  },
  {
   "cell_type": "code",
   "execution_count": null,
   "id": "simple-wesley",
   "metadata": {
    "ExecuteTime": {
     "end_time": "2022-01-20T12:03:47.871202Z",
     "start_time": "2022-01-20T12:03:47.863800Z"
    }
   },
   "outputs": [],
   "source": [
    "s = sig.id.value_counts()\n",
    "s[s==3].shape"
   ]
  },
  {
   "cell_type": "code",
   "execution_count": null,
   "id": "affecting-december",
   "metadata": {
    "ExecuteTime": {
     "end_time": "2022-01-20T12:05:00.880567Z",
     "start_time": "2022-01-20T12:05:00.875784Z"
    }
   },
   "outputs": [],
   "source": [
    "s2 = s[s==2].index"
   ]
  },
  {
   "cell_type": "code",
   "execution_count": null,
   "id": "twenty-contest",
   "metadata": {
    "ExecuteTime": {
     "end_time": "2022-01-20T12:04:25.766752Z",
     "start_time": "2022-01-20T12:04:25.759459Z"
    }
   },
   "outputs": [],
   "source": [
    "s[s==1]"
   ]
  },
  {
   "cell_type": "code",
   "execution_count": null,
   "id": "vulnerable-ivory",
   "metadata": {
    "ExecuteTime": {
     "end_time": "2022-01-20T12:05:18.998488Z",
     "start_time": "2022-01-20T12:05:18.980224Z"
    }
   },
   "outputs": [],
   "source": [
    "sig[sig.id.isin(s2)]"
   ]
  },
  {
   "cell_type": "code",
   "execution_count": null,
   "id": "growing-bleeding",
   "metadata": {
    "ExecuteTime": {
     "end_time": "2022-01-20T12:08:20.391376Z",
     "start_time": "2022-01-20T12:08:20.382719Z"
    }
   },
   "outputs": [],
   "source": [
    "df[df.id == 'SL1344_3958']"
   ]
  },
  {
   "cell_type": "code",
   "execution_count": null,
   "id": "known-juice",
   "metadata": {
    "ExecuteTime": {
     "end_time": "2022-01-20T12:08:57.237948Z",
     "start_time": "2022-01-20T12:08:57.222470Z"
    }
   },
   "outputs": [],
   "source": [
    "df3[df3.id == \"SL1344_3958\"]"
   ]
  },
  {
   "cell_type": "code",
   "execution_count": null,
   "id": "adverse-experiment",
   "metadata": {
    "ExecuteTime": {
     "end_time": "2022-01-20T12:16:11.152311Z",
     "start_time": "2022-01-20T12:16:11.135448Z"
    }
   },
   "outputs": [],
   "source": [
    "df7 = pd.read_table('test7.normalized.txt')"
   ]
  },
  {
   "cell_type": "code",
   "execution_count": null,
   "id": "sorted-diamond",
   "metadata": {
    "ExecuteTime": {
     "end_time": "2022-01-20T12:16:13.904350Z",
     "start_time": "2022-01-20T12:16:13.886490Z"
    }
   },
   "outputs": [],
   "source": [
    "df7.head()"
   ]
  },
  {
   "cell_type": "code",
   "execution_count": null,
   "id": "southwest-danish",
   "metadata": {
    "ExecuteTime": {
     "end_time": "2022-01-20T12:19:19.360923Z",
     "start_time": "2022-01-20T12:19:19.352624Z"
    }
   },
   "outputs": [],
   "source": [
    "x = df7[df7.sgRNA == 'ATCCGCGTCACCGAAAA'].set_index(['sgRNA', 'Gene']).melt(var_name='sampleID')"
   ]
  },
  {
   "cell_type": "code",
   "execution_count": null,
   "id": "robust-constraint",
   "metadata": {
    "ExecuteTime": {
     "end_time": "2022-01-20T12:18:57.425573Z",
     "start_time": "2022-01-20T12:18:57.409210Z"
    }
   },
   "outputs": [],
   "source": [
    "df8 = pd.read_table('mageck_14_2_batch.txt')\n",
    "df8"
   ]
  },
  {
   "cell_type": "code",
   "execution_count": null,
   "id": "integrated-congo",
   "metadata": {
    "ExecuteTime": {
     "end_time": "2022-01-20T12:19:53.464577Z",
     "start_time": "2022-01-20T12:19:53.450463Z"
    }
   },
   "outputs": [],
   "source": [
    "x.merge(df8, on='sampleID').groupby('day').value.median()"
   ]
  },
  {
   "cell_type": "code",
   "execution_count": null,
   "id": "absent-patrol",
   "metadata": {
    "ExecuteTime": {
     "end_time": "2022-01-20T12:20:27.024676Z",
     "start_time": "2022-01-20T12:20:27.017349Z"
    }
   },
   "outputs": [],
   "source": [
    "np.log2(3271.87/3497.16)"
   ]
  },
  {
   "cell_type": "code",
   "execution_count": null,
   "id": "native-samba",
   "metadata": {
    "ExecuteTime": {
     "end_time": "2022-01-20T13:30:34.643531Z",
     "start_time": "2022-01-20T13:30:34.632140Z"
    }
   },
   "outputs": [],
   "source": [
    "df9 = pd.read_table('test8.gene_summary.txt')"
   ]
  },
  {
   "cell_type": "code",
   "execution_count": null,
   "id": "prerequisite-action",
   "metadata": {
    "ExecuteTime": {
     "end_time": "2022-01-20T13:48:18.759722Z",
     "start_time": "2022-01-20T13:48:18.747105Z"
    }
   },
   "outputs": [],
   "source": [
    "df9[df9.id == 'pilT']"
   ]
  },
  {
   "cell_type": "code",
   "execution_count": null,
   "id": "industrial-xerox",
   "metadata": {
    "ExecuteTime": {
     "end_time": "2022-01-20T13:37:16.142090Z",
     "start_time": "2022-01-20T13:37:16.107608Z"
    }
   },
   "outputs": [],
   "source": [
    "df9[(df9['neg|fdr'] < 0.05)& (df9.id.str.len() < 16)].sort_values('neg|rank')"
   ]
  },
  {
   "cell_type": "code",
   "execution_count": null,
   "id": "marine-train",
   "metadata": {
    "ExecuteTime": {
     "end_time": "2022-01-20T13:37:08.120852Z",
     "start_time": "2022-01-20T13:37:08.081427Z"
    }
   },
   "outputs": [],
   "source": [
    "df4[(df4['neg|fdr'] < 0.05)& (df4.id.str.len() < 16)].sort_values('neg|rank')"
   ]
  },
  {
   "cell_type": "code",
   "execution_count": null,
   "id": "universal-purchase",
   "metadata": {
    "ExecuteTime": {
     "end_time": "2022-01-20T13:49:04.483506Z",
     "start_time": "2022-01-20T13:49:04.475963Z"
    }
   },
   "outputs": [],
   "source": [
    "a = set(df9[(df9['neg|fdr'] < 0.05)& (df9.id.str.len() < 16)].id.values)"
   ]
  },
  {
   "cell_type": "code",
   "execution_count": null,
   "id": "intermediate-deadline",
   "metadata": {
    "ExecuteTime": {
     "end_time": "2022-01-20T13:49:18.178598Z",
     "start_time": "2022-01-20T13:49:18.171797Z"
    }
   },
   "outputs": [],
   "source": [
    "b = set(df4[(df4['neg|fdr'] < 0.05)& (df4.id.str.len() < 16)].id.values)"
   ]
  },
  {
   "cell_type": "code",
   "execution_count": null,
   "id": "stunning-offset",
   "metadata": {
    "ExecuteTime": {
     "end_time": "2022-01-20T13:49:20.319804Z",
     "start_time": "2022-01-20T13:49:20.314337Z"
    }
   },
   "outputs": [],
   "source": [
    "a-b"
   ]
  },
  {
   "cell_type": "code",
   "execution_count": null,
   "id": "continental-fellow",
   "metadata": {
    "ExecuteTime": {
     "end_time": "2022-01-20T13:50:41.574970Z",
     "start_time": "2022-01-20T13:50:41.568420Z"
    }
   },
   "outputs": [],
   "source": [
    "b-a"
   ]
  },
  {
   "cell_type": "code",
   "execution_count": null,
   "id": "divided-highland",
   "metadata": {
    "ExecuteTime": {
     "end_time": "2022-01-20T13:53:38.797235Z",
     "start_time": "2022-01-20T13:53:38.770674Z"
    }
   },
   "outputs": [],
   "source": [
    "\n",
    "\n",
    "batches"
   ]
  },
  {
   "cell_type": "code",
   "execution_count": null,
   "id": "empirical-joining",
   "metadata": {
    "ExecuteTime": {
     "end_time": "2022-01-20T13:54:16.486982Z",
     "start_time": "2022-01-20T13:54:16.483355Z"
    }
   },
   "outputs": [],
   "source": [
    "negCntrl = ['TACCCAGAGCACACTCA', 'ATCCGCGTCACCGAAAA', 'ACAGAGCTCGGGAGTCT',\n",
    "       'ACTACAAGACTGGTTAA', 'AGATGCATGACTAGCTA', 'AGAATGACCCGGAGGCT',\n",
    "       'AGGAAGGCGACGAAATC', 'AGTCATCGATGCTATAT', 'TAAGTCCGGGCTAAGTC',\n",
    "       'AACAACACGGTAAGCAA', 'TATAACACCCCCGATTC', 'CTACGACAGGGACTTAA',\n",
    "       'GTGTATAGCAGGAACCC', 'CCGACGACTGATTGTCC', 'TCTCACGCAGCGTTTCG']\n",
    "batches = pd.read_table('mageck_dirty_14_2_batch.txt')"
   ]
  },
  {
   "cell_type": "code",
   "execution_count": null,
   "id": "productive-bolivia",
   "metadata": {
    "ExecuteTime": {
     "end_time": "2022-01-20T14:05:40.854355Z",
     "start_time": "2022-01-20T14:05:40.850128Z"
    }
   },
   "outputs": [],
   "source": [
    "def test_norm(file, negCntrl, batches, gene='Gene'):\n",
    "    df10 = pd.read_table(file)\n",
    "    df10 = df10[df10.sgRNA.isin(negCntrl)]\n",
    "    df10 = df10.melt(id_vars=['sgRNA', gene], var_name='sampleID').merge(batches, on='sampleID')\n",
    "    x = df10.groupby(['sgRNA', 'day']).value.median().unstack()\n",
    "    x['lfc'] = np.log2(x.d1/x.d0)\n",
    "    return x\n"
   ]
  },
  {
   "cell_type": "code",
   "execution_count": null,
   "id": "defined-hospital",
   "metadata": {
    "ExecuteTime": {
     "end_time": "2022-01-20T14:16:59.800816Z",
     "start_time": "2022-01-20T14:16:59.745282Z"
    }
   },
   "outputs": [],
   "source": [
    "norm_counts = test_norm(\"test8.normalized.txt\", negCntrl, batches)\n",
    "batches_clean = pd.read_table('mageck_14_2_batch.txt')\n",
    "norm_counts_clean = test_norm(\"test4.normalized.txt\", negCntrl, batches_clean)"
   ]
  },
  {
   "cell_type": "code",
   "execution_count": null,
   "id": "broken-queens",
   "metadata": {
    "ExecuteTime": {
     "end_time": "2022-01-20T14:04:46.075540Z",
     "start_time": "2022-01-20T14:04:46.061955Z"
    }
   },
   "outputs": [],
   "source": [
    "norm_counts"
   ]
  },
  {
   "cell_type": "code",
   "execution_count": null,
   "id": "pretty-spell",
   "metadata": {
    "ExecuteTime": {
     "end_time": "2022-01-20T14:05:48.372193Z",
     "start_time": "2022-01-20T14:05:48.352426Z"
    }
   },
   "outputs": [],
   "source": [
    "batch_counts = test_norm(\"14_2.dirty.batch.corrected.txt\", negCntrl, batches, gene='gene')"
   ]
  },
  {
   "cell_type": "code",
   "execution_count": null,
   "id": "comparative-species",
   "metadata": {
    "ExecuteTime": {
     "end_time": "2022-01-20T14:17:05.192912Z",
     "start_time": "2022-01-20T14:17:05.181912Z"
    }
   },
   "outputs": [],
   "source": [
    "norm_counts_clean"
   ]
  },
  {
   "cell_type": "code",
   "execution_count": null,
   "id": "colored-bumper",
   "metadata": {
    "ExecuteTime": {
     "end_time": "2022-01-20T14:06:53.280175Z",
     "start_time": "2022-01-20T14:06:53.252287Z"
    }
   },
   "outputs": [],
   "source": [
    "raw_counts = test_norm(\"mageck_dirty_counts.txt\", negCntrl, batches, gene='gene')"
   ]
  },
  {
   "cell_type": "code",
   "execution_count": null,
   "id": "declared-perfume",
   "metadata": {
    "ExecuteTime": {
     "end_time": "2022-01-20T14:20:29.257628Z",
     "start_time": "2022-01-20T14:20:29.251109Z"
    }
   },
   "outputs": [],
   "source": [
    "raw_counts.lfc.median()"
   ]
  },
  {
   "cell_type": "code",
   "execution_count": null,
   "id": "innovative-luxembourg",
   "metadata": {
    "ExecuteTime": {
     "end_time": "2022-01-20T14:20:33.664884Z",
     "start_time": "2022-01-20T14:20:33.658392Z"
    }
   },
   "outputs": [],
   "source": [
    "norm_counts.lfc.median()"
   ]
  },
  {
   "cell_type": "code",
   "execution_count": null,
   "id": "presidential-mirror",
   "metadata": {
    "ExecuteTime": {
     "end_time": "2022-01-20T14:20:38.504864Z",
     "start_time": "2022-01-20T14:20:38.498299Z"
    }
   },
   "outputs": [],
   "source": [
    "norm_counts_clean.lfc.median()"
   ]
  },
  {
   "cell_type": "code",
   "execution_count": null,
   "id": "temporal-algeria",
   "metadata": {
    "ExecuteTime": {
     "end_time": "2022-01-20T14:18:49.097736Z",
     "start_time": "2022-01-20T14:18:48.838166Z"
    }
   },
   "outputs": [],
   "source": [
    "raw_counts.lfc.hist(bins=10, alpha=0.5, label='raw')\n",
    "norm_counts.lfc.hist(bins=10, alpha=0.5, label='all norm')\n",
    "norm_counts_clean.lfc.hist(bins=10, alpha=0.5, label='clean_norm')\n",
    "plt.legend()"
   ]
  },
  {
   "cell_type": "code",
   "execution_count": null,
   "id": "little-raising",
   "metadata": {},
   "outputs": [],
   "source": []
  }
 ],
 "metadata": {
  "kernelspec": {
   "display_name": "Python 3",
   "language": "python",
   "name": "python3"
  },
  "language_info": {
   "codemirror_mode": {
    "name": "ipython",
    "version": 3
   },
   "file_extension": ".py",
   "mimetype": "text/x-python",
   "name": "python",
   "nbconvert_exporter": "python",
   "pygments_lexer": "ipython3",
   "version": "3.6.6"
  },
  "toc": {
   "base_numbering": 1,
   "nav_menu": {},
   "number_sections": true,
   "sideBar": true,
   "skip_h1_title": false,
   "title_cell": "Table of Contents",
   "title_sidebar": "Contents",
   "toc_cell": false,
   "toc_position": {},
   "toc_section_display": true,
   "toc_window_display": false
  }
 },
 "nbformat": 4,
 "nbformat_minor": 5
}
