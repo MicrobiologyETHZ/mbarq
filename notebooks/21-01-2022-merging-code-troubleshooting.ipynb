{
 "cells": [
  {
   "cell_type": "code",
   "execution_count": null,
   "id": "naughty-suggestion",
   "metadata": {
    "ExecuteTime": {
     "end_time": "2022-01-21T11:49:31.446599Z",
     "start_time": "2022-01-21T11:49:31.440284Z"
    }
   },
   "outputs": [],
   "source": [
    "import logging\n",
    "import collections\n",
    "import os\n",
    "from typing import Optional, List, Union\n",
    "#from mbarq.core import Barcode, BarSeqData\n",
    "from pathlib import Path\n",
    "import pandas as pd\n",
    "import sys\n",
    "#from mbarq.mbarq_logger import get_logger\n",
    "\n",
    "from pandera import Column, DataFrameSchema, Check, Index\n",
    "\n",
    "#from pandera.errors import SchemaError"
   ]
  },
  {
   "cell_type": "code",
   "execution_count": null,
   "id": "brave-universe",
   "metadata": {
    "ExecuteTime": {
     "end_time": "2022-01-21T11:49:32.874076Z",
     "start_time": "2022-01-21T11:49:32.853068Z"
    },
    "code_folding": [
     0
    ]
   },
   "outputs": [],
   "source": [
    "class CountDataSet:\n",
    "\n",
    "    \"\"\"\n",
    "    Merge count files into one or if given one count file validate proper format\n",
    "    \"\"\"\n",
    "    def __init__(self, count_files: Union[str, List[str]], name: str,\n",
    "                 gene_column_name: str = '', sep=',', output_dir: str = ''):\n",
    "        self.count_files = count_files\n",
    "        self.gene_name = gene_column_name\n",
    "        self.sep = sep\n",
    "        #self.countTable, self.sampleIDs = self.createCountTable()\n",
    "\n",
    "        self.output_dir = Path(output_dir)\n",
    "        self.name = name\n",
    "        #self.logger = get_logger('merging-log', self.output_dir / f\"{self.name}_CountDataSet.log\")\n",
    "\n",
    "    def _merge_count_files(self) -> pd.DataFrame:\n",
    "        df_list = []\n",
    "        sampleIDs = []\n",
    "        for count_file in self.count_files:\n",
    "            sampleID = Path(count_file).stem.split(\"_mbarq\")[0]\n",
    "            df = pd.read_table(Path(count_file), sep=self.sep, index_col=0)  # todo don't write down index in count step\n",
    "            if not self.gene_name:\n",
    "                df = df.iloc[:, [0, 1]]\n",
    "                df.columns = ['barcode', 'barcode_count']\n",
    "                index_cols = ['barcode']\n",
    "            elif self.gene_name and self.gene_name in df.columns:\n",
    "                gene_col_index = df.columns.get_loc(self.gene_name)\n",
    "                df = df.iloc[:, [0, 1, gene_col_index]]\n",
    "                df.columns = ['barcode', 'barcode_count', self.gene_name]\n",
    "                index_cols = ['barcode', self.gene_name]\n",
    "            else:\n",
    "                #self.logger.error(f'Gene name column provided is not found in the {Path(count_file).name}')\n",
    "                sys.exit(1)\n",
    "            df = df.assign(sampleID=sampleID).drop_duplicates()  # todo fix bug in counting that produces duplicates\n",
    "            df_list.append(df)\n",
    "            sampleIDs.append(sampleID)\n",
    "        fdf = pd.concat(df_list)\n",
    "        fdf = fdf.pivot(index=index_cols, columns='sampleID', values=fdf.columns[1]).fillna(0).reset_index()\n",
    "        if self.gene_name: # todo temp solution, should be addressed at mapping stage\n",
    "            fdf[self.gene_name] = fdf[self.gene_name].fillna(fdf['barcode'])\n",
    "        return fdf\n",
    "\n",
    "    def _validate_count_table(self, df_to_validate: pd.DataFrame) -> (pd.DataFrame, List[str]):\n",
    "        # first needs to be a string, second also string, nulls should not be allowed\n",
    "        # rest should be floats or ints\n",
    "    \n",
    "        num_of_columns = len(df_to_validate.columns)\n",
    "        num_of_samples = num_of_columns-2 if self.gene_name else num_of_columns-1\n",
    "        print(num_of_samples)\n",
    "        annotation_validations = [Column(str), Column(str)]\n",
    "        sample_validations = [Column(float)]*num_of_samples\n",
    "        \n",
    "        col_validations = annotation_validations + sample_validations\n",
    "        col_validation_dict = {col_name: col_validation for col_name, col_validation in\n",
    "                               zip(df_to_validate.columns, col_validations)}\n",
    "        print(col_validation_dict)\n",
    "        schema = DataFrameSchema(\n",
    "            col_validation_dict,\n",
    "            strict=True,\n",
    "            coerce=False,\n",
    "        )\n",
    "        try:\n",
    "            schema.validate(df_to_validate)\n",
    "            return df_to_validate, df_to_validate.columns[-num_of_samples:]\n",
    "        except SchemaError:\n",
    "            #logging.error('Invalid count data frame')\n",
    "            sys.exit(1)\n",
    "\n",
    "    def createCountTable(self):\n",
    "        if type(self.count_files) == str:\n",
    "            df_to_validate = pd.read_table(self.count_files, sep=self.sep)\n",
    "            return self._validate_count_table(df_to_validate)\n",
    "        else:\n",
    "            countTable = self._merge_count_files()\n",
    "            return self._validate_count_table(countTable)\n",
    "\n"
   ]
  },
  {
   "cell_type": "code",
   "execution_count": null,
   "id": "provincial-flexibility",
   "metadata": {
    "ExecuteTime": {
     "end_time": "2022-01-21T11:49:35.099425Z",
     "start_time": "2022-01-21T11:49:35.094685Z"
    }
   },
   "outputs": [],
   "source": [
    "count_files = [c for c in Path(\"../tests/test_data/analysis_test/\").iterdir() if c.suffix == '.csv']"
   ]
  },
  {
   "cell_type": "code",
   "execution_count": null,
   "id": "agreed-liabilities",
   "metadata": {
    "ExecuteTime": {
     "end_time": "2022-01-21T11:49:35.423565Z",
     "start_time": "2022-01-21T11:49:35.419276Z"
    }
   },
   "outputs": [],
   "source": [
    "a = CountDataSet(count_files, name='test', gene_column_name='locus_tag')"
   ]
  },
  {
   "cell_type": "code",
   "execution_count": null,
   "id": "miniature-death",
   "metadata": {
    "ExecuteTime": {
     "end_time": "2022-01-21T11:49:35.891792Z",
     "start_time": "2022-01-21T11:49:35.823018Z"
    }
   },
   "outputs": [],
   "source": [
    "fdf = a._merge_count_files()\n",
    "fdf['dnaid_10'] = 'a'"
   ]
  },
  {
   "cell_type": "code",
   "execution_count": null,
   "id": "stock-green",
   "metadata": {
    "ExecuteTime": {
     "end_time": "2022-01-21T11:49:36.718610Z",
     "start_time": "2022-01-21T11:49:36.680655Z"
    }
   },
   "outputs": [],
   "source": [
    "a._validate_count_table(fdf)"
   ]
  },
  {
   "cell_type": "code",
   "execution_count": null,
   "id": "bizarre-integer",
   "metadata": {
    "ExecuteTime": {
     "end_time": "2022-01-21T11:41:49.009342Z",
     "start_time": "2022-01-21T11:41:49.003132Z"
    }
   },
   "outputs": [],
   "source": []
  },
  {
   "cell_type": "code",
   "execution_count": null,
   "id": "skilled-stomach",
   "metadata": {
    "ExecuteTime": {
     "end_time": "2022-01-21T11:29:33.095549Z",
     "start_time": "2022-01-21T11:29:33.073335Z"
    }
   },
   "outputs": [],
   "source": [
    "y = x.pivot(index=['barcode', 'locus_tag'], columns='sampleID', values='barcode_count').fillna(0).reset_index()"
   ]
  },
  {
   "cell_type": "code",
   "execution_count": null,
   "id": "industrial-aaron",
   "metadata": {
    "ExecuteTime": {
     "end_time": "2022-01-21T10:26:49.093125Z",
     "start_time": "2022-01-21T10:26:49.083662Z"
    }
   },
   "outputs": [],
   "source": [
    "magDf2.pivot(index=['barcode', 'ShortName'], columns='sampleID', values = 'barcode_cnt')\n",
    "         .reset_index().rename({'barcode':'sgRNA', 'ShortName': 'gene'}, axis=1)\n",
    "          .fillna(0))"
   ]
  },
  {
   "cell_type": "code",
   "execution_count": null,
   "id": "interstate-coupon",
   "metadata": {
    "ExecuteTime": {
     "end_time": "2022-01-21T11:30:13.542158Z",
     "start_time": "2022-01-21T11:30:13.536108Z"
    }
   },
   "outputs": [],
   "source": [
    "y.columns[-3:]"
   ]
  },
  {
   "cell_type": "code",
   "execution_count": null,
   "id": "functioning-collar",
   "metadata": {
    "ExecuteTime": {
     "end_time": "2022-01-21T11:30:22.268712Z",
     "start_time": "2022-01-21T11:30:22.262730Z"
    }
   },
   "outputs": [],
   "source": [
    "y.columns"
   ]
  },
  {
   "cell_type": "code",
   "execution_count": null,
   "id": "entire-profession",
   "metadata": {},
   "outputs": [],
   "source": []
  }
 ],
 "metadata": {
  "kernelspec": {
   "display_name": "Python 3",
   "language": "python",
   "name": "python3"
  },
  "language_info": {
   "codemirror_mode": {
    "name": "ipython",
    "version": 3
   },
   "file_extension": ".py",
   "mimetype": "text/x-python",
   "name": "python",
   "nbconvert_exporter": "python",
   "pygments_lexer": "ipython3",
   "version": "3.6.6"
  },
  "toc": {
   "base_numbering": 1,
   "nav_menu": {},
   "number_sections": true,
   "sideBar": true,
   "skip_h1_title": false,
   "title_cell": "Table of Contents",
   "title_sidebar": "Contents",
   "toc_cell": false,
   "toc_position": {},
   "toc_section_display": true,
   "toc_window_display": false
  }
 },
 "nbformat": 4,
 "nbformat_minor": 5
}
