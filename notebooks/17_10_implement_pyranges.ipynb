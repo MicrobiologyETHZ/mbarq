{
 "cells": [
  {
   "cell_type": "code",
   "execution_count": null,
   "metadata": {
    "ExecuteTime": {
     "end_time": "2023-02-07T08:28:23.839067Z",
     "start_time": "2023-02-07T08:28:21.234090Z"
    }
   },
   "outputs": [],
   "source": [
    "import pandas as pd\n",
    "from typing import Optional, List, Union, Tuple\n",
    "from mbarq.core import Barcode, BarSeqData\n",
    "from pathlib import Path\n",
    "import pandas as pd\n",
    "import sys\n",
    "#from mbarq.mbarq_logger import get_logger\n",
    "import subprocess\n",
    "from Bio.Seq import Seq\n",
    "\n",
    "import numpy as np\n",
    "from pybedtools import BedTool\n",
    "import pyranges as pr"
   ]
  },
  {
   "cell_type": "code",
   "execution_count": null,
   "metadata": {
    "ExecuteTime": {
     "end_time": "2023-02-07T08:30:19.227626Z",
     "start_time": "2023-02-07T08:30:19.201392Z"
    },
    "code_folding": []
   },
   "outputs": [],
   "source": [
    "class AnnotatedMap:\n",
    "    def __init__(self, map_file: str,\n",
    "                 annotation_file: str,\n",
    "                 feature_type: str,\n",
    "                 identifiers: Tuple[str, ...],\n",
    "                 name: str = '',\n",
    "                 output_dir: str = \".\",\n",
    "                 positions: pd.DataFrame = pd.DataFrame()\n",
    "                 ) -> None:\n",
    "        self.map_file: Union[str, Path] = map_file\n",
    "        self.annotations: str = annotation_file\n",
    "        self.feature_type: str = feature_type\n",
    "        self.identifiers: Tuple[str, ...] = identifiers\n",
    "        if name:\n",
    "            self.name: str = name\n",
    "        else:\n",
    "            print(self.map_file)\n",
    "            self.name = Path(self.map_file).stem\n",
    "        print(self.name)\n",
    "        self.output_dir: Path = Path(output_dir)\n",
    "        self.annotated_map_file: Path = self.output_dir/f'{self.name}.annotated.csv'\n",
    "        self.positions: pd.DataFrame = positions if not positions.empty else pd.read_csv(self.map_file)\n",
    "        #self.logger = get_logger('annotate_map-log', self.output_dir / f\"{self.name}_annotate_map.log\")\n",
    "        self.temp_bed_file: Path = self.output_dir / f\"{self.name}.bed\"\n",
    "        self.temp_bed_results_file: Path = self.output_dir / f\"{self.name}.bed.intersect.tab\"\n",
    "        self.temp_bed_closest_file: Path = self.output_dir / f\"{self.name}.bed.closest.tab\"\n",
    "\n",
    "    def _find_annotation_overlaps(self, intersect=True):\n",
    "\n",
    "        \"\"\"\n",
    "        Takes output of merge colliding bcs, turns it into bed file, then finds intersections with\n",
    "        annotation file.\n",
    "        Generates tab file with the following columns: chr | sstart | gff-info-field | barcode\n",
    "        \"\"\"\n",
    "        #self.logger.info('------------------')\n",
    "        #self.logger.info('Annotating mapped barcodes')\n",
    "        bed_map = self.positions.copy().reset_index()\n",
    "        bed_map['startOffBy1'] = bed_map['insertion_site'] - 1\n",
    "        bed_map[['chr', 'startOffBy1', 'insertion_site', 'barcode']].to_csv(self.temp_bed_file, sep='\\t', index=False,\n",
    "                                                                            header=False)\n",
    "        if intersect:\n",
    "            #self.logger.info('Only annotating barcodes inside/overlapping features of interest')\n",
    "            command = f\"bedtools intersect -wb -b {self.annotations} -a {self.temp_bed_file} \" \\\n",
    "                      f\" > {self.temp_bed_results_file}\"\n",
    "        else:\n",
    "            #self.logger.info('Finding closest feature for each barcode')\n",
    "            tmp_annotations = Path(self.annotations).with_suffix('.sorted.gff')\n",
    "            tmp_bed = self.temp_bed_file.with_suffix('.sorted.bed')\n",
    "            command = f\"bedtools sort -i {self.temp_bed_file} > {tmp_bed};\" \\\n",
    "                      f\"bedtools sort -i {self.annotations} | \" \\\n",
    "                      f\"awk '$3 == \\\"{self.feature_type}\\\" {{print $0}} ' > {tmp_annotations};\" \\\n",
    "                      f\"bedtools closest -b {tmp_annotations} -a {tmp_bed} -D b > {self.temp_bed_results_file}\"\n",
    "        # todo add -id to only display downstream genes\n",
    "        # todo remove self.temp_bed_closest_file\n",
    "        #self.logger.info(f'bedtools command: {command}')\n",
    "        return_code = subprocess.check_call(command, shell=True)\n",
    "        if return_code != 0:\n",
    "            #self.logger.error(f\"Failed to run bedtools. \"\n",
    "             #                 f\"Return code: {return_code}\")\n",
    "            sys.exit(1)\n",
    "        else:\n",
    "            pass\n",
    "            #self.logger.info('Finished finding overlaps between barcodes and features.')\n",
    "        # todo remove unnecessary files\n",
    "\n",
    "\n",
    "    def _add_bedtools_results_to_positions(self, intersect=True):\n",
    "        \"\"\"\n",
    "        takes output_map file produced by _find_annotation_overlaps and merges it with barcode map on barcode\n",
    "        \"\"\"\n",
    "        antd_positions = pd.read_table(self.temp_bed_results_file, header=None)\n",
    "        if intersect:\n",
    "            antd_positions.columns = ['bc_chr', 'bc_start', 'bc_insertion_site',\n",
    "                                      'barcode', 'chr', 'source', 'feature', 'feat_start',\n",
    "                                      'feat_end', 'score', 'strand',\n",
    "                                      'phase', 'gene_info']\n",
    "            antd_positions['distance_to_feature'] = 0\n",
    "        else:\n",
    "            antd_positions.columns = ['bc_chr', 'bc_start', 'bc_insertion_site',\n",
    "                                      'barcode', 'chr', 'source', 'feature', 'feat_start',\n",
    "                                      'feat_end', 'score', 'strand',\n",
    "                                      'phase', 'gene_info', 'distance_to_feature']\n",
    "        antd_positions = antd_positions[antd_positions.feature == self.feature_type]\n",
    "        for feat in self.identifiers:\n",
    "            pattern = f'({feat}=.+?;|{feat}=.+?$)'\n",
    "            antd_positions[feat] = (antd_positions['gene_info']\n",
    "                                    .str.extract(pattern, expand=False)\n",
    "                                    .str.replace(f'{feat}=', '')\n",
    "                                    .str.strip(';'))\n",
    "            if antd_positions[feat].isna().all():\n",
    "                self.logger.warning(f'\"{feat}\" identifier not found')\n",
    "        antd_positions = antd_positions[list(self.identifiers) + ['barcode', 'distance_to_feature']]\n",
    "        self.annotated_positions = (self.positions.copy()\n",
    "                                    .merge(antd_positions, how='left', on='barcode'))\n",
    "        for feat in self.identifiers:\n",
    "            self.annotated_positions[feat] = (self.annotated_positions[feat]\n",
    "                                              .fillna(self.annotated_positions['chr'].astype(str) +\n",
    "                                                      \":\" + self.annotated_positions['insertion_site'].astype(str)))\n",
    "        #self.logger.info(f\"writing to {self.annotated_map_file}\")\n",
    "        self.annotated_positions.to_csv(self.annotated_map_file, index=False)\n",
    "    # os.remove(self.temp_bed_results_file)\n",
    "\n",
    "    def _validate_annotations(self) -> None:\n",
    "\n",
    "        \"\"\"\n",
    "        Simple validation on the gff file\n",
    "        only if it's a non-empty file with feature type\n",
    "\n",
    "        \"\"\"\n",
    "        if not Path(self.annotations).is_file():\n",
    "            #self.logger.error(f'Annotation file \"{self.annotations}\" not found. Check the path.')\n",
    "            #self.logger.error(f'To rerun annotation on {self.map_file} run \".... \"')\n",
    "            sys.exit(1)\n",
    "        else:\n",
    "            feature_types = pd.read_table(self.annotations, comment='#', usecols=[2]).iloc[:, 0].unique()\n",
    "            if self.feature_type not in feature_types:\n",
    "                # todo assumes gff format, might want to generalize later\n",
    "                #self.logger.error(f'Feature type \"{self.feature_type}\" not found in {self.annotations}.')\n",
    "                #self.logger.error(f'Feature types available: {\", \".join(feature_types)}')\n",
    "                sys.exit(1)\n",
    "\n",
    "    def add_rev_complement(self):\n",
    "        #self.logger.info(f\"Adding barcode reverse complements to {self.annotated_map_file}\")\n",
    "        self.annotated_positions['revcomp_barcode'] = self.annotated_positions.barcode.apply(lambda x: str(Seq(x).reverse_complement()))\n",
    "        #self.logger.info(f\"writing to {self.annotated_map_file}\")\n",
    "        self.annotated_positions.to_csv(self.annotated_map_file, index=False)\n",
    "\n",
    "    def annotate(self,  intersect=True):\n",
    "        if self.positions.empty:\n",
    "            #self.logger.error(f'Found no positions to annotate. Is {self.map_file} empty?')\n",
    "            sys.exit(1)\n",
    "        self._validate_annotations()\n",
    "        self._find_annotation_overlaps(intersect)\n",
    "        self._add_bedtools_results_to_positions(intersect)"
   ]
  },
  {
   "cell_type": "code",
   "execution_count": null,
   "metadata": {
    "ExecuteTime": {
     "end_time": "2023-02-07T10:14:24.141325Z",
     "start_time": "2023-02-07T10:14:24.111909Z"
    },
    "code_folding": []
   },
   "outputs": [],
   "source": [
    "class AnnotatedMap2:\n",
    "    def __init__(self, map_file: str,\n",
    "                 annotation_file: str,\n",
    "                 feature_type: str,\n",
    "                 identifiers: Tuple[str, ...],\n",
    "                 name: str = '',\n",
    "                 output_dir: str = \".\",\n",
    "                 positions: pd.DataFrame = pd.DataFrame()\n",
    "                 ) -> None:\n",
    "        self.map_file: Union[str, Path] = map_file\n",
    "        self.annotations: str = annotation_file\n",
    "        self.feature_type: str = feature_type\n",
    "        self.identifiers: Tuple[str, ...] = identifiers\n",
    "        if name:\n",
    "            self.name: str = name\n",
    "        else:\n",
    "            print(self.map_file)\n",
    "            self.name = Path(self.map_file).stem\n",
    "        print(self.name)\n",
    "        self.output_dir: Path = Path(output_dir)\n",
    "        self.annotated_map_file: Path = self.output_dir/f'{self.name}.annotated.csv'\n",
    "        self.positions: pd.DataFrame = positions if not positions.empty else pd.read_csv(self.map_file)\n",
    "        #self.logger = get_logger('annotate_map-log', self.output_dir / f\"{self.name}_annotate_map.log\")\n",
    "        #self.temp_bed_file: Path = self.output_dir / f\"{self.name}.bed\"\n",
    "        #self.temp_bed_results_file: Path = self.output_dir / f\"{self.name}.bed.intersect.tab\"\n",
    "        #self.temp_bed_closest_file: Path = self.output_dir / f\"{self.name}.bed.closest.tab\"\n",
    "\n",
    "    def _find_annotation_overlaps(self, intersect=True):\n",
    "\n",
    "        \"\"\"\n",
    "\n",
    "        \"\"\"\n",
    "    \n",
    "        def min_max(isite, start, end):\n",
    "            return round((isite - start)/(end-start),2)\n",
    "        \n",
    "        #self.logger.info('------------------')\n",
    "        #self.logger.info('Annotating mapped barcodes')\n",
    "        barcode_cols = ['chr', 'insertion_site', 'barcode', 'abundance_in_mapping_library']\n",
    "        bed_map = self.positions[barcode_cols].copy()\n",
    "        bed_map['bc_start'] = bed_map['insertion_site'] - 1\n",
    "        barcode_cols = ['chr',  'bc_start', 'insertion_site',  'barcode', 'abundance_in_mapping_library']\n",
    "        bed_map = bed_map[barcode_cols]\n",
    "        barcodes_bedtool = BedTool.from_dataframe(bed_map).sort()\n",
    "        gff = pr.read_gff3(self.annotations).as_df()\n",
    "        gff['Start'] = gff['Start'] + 1\n",
    "        gff_cols = ['Chromosome', 'Source', 'Feature', 'Start', 'End', 'Score', 'Strand', 'Frame']\n",
    "        gff_short = gff[gff.Feature == self.feature_type][gff_cols]\n",
    "        genes_bedtool = BedTool.from_dataframe(gff_short).sort()\n",
    "        names = barcode_cols + gff_cols + ['distance_to_feature'] \n",
    "        barcode_annotation = barcodes_bedtool.closest(genes_bedtool, D='b').to_dataframe(names=names)\n",
    "        if intersect == True:\n",
    "            barcode_annotation = barcode_annotation[barcode_annotation['distance_to_feature'] == 0]\n",
    "        #calculate percentile\n",
    "        barcode_annotation = barcode_annotation.merge(gff[gff_cols + self.identifiers], on=gff_cols,\n",
    "                                                       how='left')\n",
    "        barcode_annotation['percentile'] = np.where(barcode_annotation.Strand.isin(['+','plus']), \n",
    "                                           min_max(barcode_annotation.insertion_site, barcode_annotation.Start, barcode_annotation.End), \n",
    "                                           min_max(barcode_annotation.insertion_site, barcode_annotation.End, barcode_annotation.Start))\n",
    "        barcode_annotation['percentile'] = barcode_annotation['percentile'].apply(lambda x: np.nan if x <= 0.0 or x >= 1.0 else x)\n",
    "        final_columns = ['barcode', 'chr', 'insertion_site', 'abundance_in_mapping_library',\n",
    "                        'Start', 'End', 'Strand']+self.identifiers + ['distance_to_feature', 'percentile']\n",
    "        self.annotated_positions = (barcode_annotation[final_columns]\n",
    "                                    .rename({'Start':'gene_start', 'End': 'gene_end', \n",
    "                                             'Strand':'gene_strand'}, axis=1))\n",
    "        self.annotated_positions.to_csv(self.annotated_map_file, index=False)\n",
    "        \n",
    "\n",
    "    def _validate_annotations(self) -> None:\n",
    "\n",
    "        \"\"\"\n",
    "        Simple validation on the gff file\n",
    "        only if it's a non-empty file with feature type\n",
    "\n",
    "        \"\"\"\n",
    "        if not Path(self.annotations).is_file():\n",
    "            #self.logger.error(f'Annotation file \"{self.annotations}\" not found. Check the path.')\n",
    "            #self.logger.error(f'To rerun annotation on {self.map_file} run \".... \"')\n",
    "            sys.exit(1)\n",
    "        else:\n",
    "            feature_types = pd.read_table(self.annotations, comment='#', usecols=[2]).iloc[:, 0].unique()\n",
    "            if self.feature_type not in feature_types:\n",
    "                # todo assumes gff format, might want to generalize later\n",
    "                #self.logger.error(f'Feature type \"{self.feature_type}\" not found in {self.annotations}.')\n",
    "                #self.logger.error(f'Feature types available: {\", \".join(feature_types)}')\n",
    "                sys.exit(1)\n",
    "\n",
    "    def add_rev_complement(self):\n",
    "        #self.logger.info(f\"Adding barcode reverse complements to {self.annotated_map_file}\")\n",
    "        self.annotated_positions['revcomp_barcode'] = self.annotated_positions.barcode.apply(lambda x: str(Seq(x).reverse_complement()))\n",
    "        #self.logger.info(f\"writing to {self.annotated_map_file}\")\n",
    "        self.annotated_positions.to_csv(self.annotated_map_file, index=False)\n",
    "\n",
    "    def annotate(self,  intersect=True):\n",
    "        if self.positions.empty:\n",
    "            #self.logger.error(f'Found no positions to annotate. Is {self.map_file} empty?')\n",
    "            sys.exit(1)\n",
    "        self._validate_annotations()\n",
    "        self._find_annotation_overlaps(intersect)\n",
    "        "
   ]
  },
  {
   "cell_type": "code",
   "execution_count": null,
   "metadata": {
    "ExecuteTime": {
     "end_time": "2023-02-07T10:14:57.882302Z",
     "start_time": "2023-02-07T10:14:57.382511Z"
    }
   },
   "outputs": [],
   "source": [
    "root = Path(\"/nfs/cds-peta/exports/biol_micro_cds_gr_sunagawa/scratch/Projects_NCCR/ref/mbarq_test_data\")\n",
    "map_file = root/'dnaid1315/expected_outcomes/23-06-22-library_11_1.map.csv'\n",
    "gff_file = root/\"dnaid1315/ref/GCA_000210855.2_ASM21085v2_genomic.gff\"\n",
    "feature_type = 'gene'\n",
    "identifiers = [ 'locus_tag', 'Name']\n",
    "#am = AnnotatedMap(map_file, gff_file, feature_type, identifiers)\n",
    "am2 = AnnotatedMap2(map_file, gff_file, feature_type, identifiers)\n",
    "#am.annotate(intersect=False)\n",
    "am2.annotate(intersect=False)"
   ]
  },
  {
   "cell_type": "code",
   "execution_count": null,
   "metadata": {
    "ExecuteTime": {
     "end_time": "2023-02-07T09:51:52.400514Z",
     "start_time": "2023-02-07T09:51:52.370447Z"
    }
   },
   "outputs": [],
   "source": [
    "am.annotated_positions[am.annotated_positions['distance_to_feature'] != 0]"
   ]
  },
  {
   "cell_type": "code",
   "execution_count": null,
   "metadata": {
    "ExecuteTime": {
     "end_time": "2023-02-07T10:11:36.411378Z",
     "start_time": "2023-02-07T10:11:36.379815Z"
    }
   },
   "outputs": [],
   "source": [
    "am2.annotated_positions[am2.annotated_positions['distance_to_feature'] != 0]"
   ]
  },
  {
   "cell_type": "code",
   "execution_count": null,
   "metadata": {
    "ExecuteTime": {
     "end_time": "2023-02-07T09:37:27.357322Z",
     "start_time": "2023-02-07T09:37:27.293348Z"
    }
   },
   "outputs": [],
   "source": [
    "bdf = am2.positions[['barcode', 'insertion_site', 'chr']].copy()\n",
    "bdf['startoff'] = bdf['insertion_site'] -1\n",
    "bdf\n",
    "bar_bedtool = BedTool.from_dataframe(bdf[['chr', 'startoff', 'insertion_site', 'barcode']]).sort()"
   ]
  },
  {
   "cell_type": "code",
   "execution_count": null,
   "metadata": {
    "ExecuteTime": {
     "end_time": "2023-02-07T09:37:40.633102Z",
     "start_time": "2023-02-07T09:37:40.381459Z"
    }
   },
   "outputs": [],
   "source": [
    "gff = pr.read_gff3(gff_file)\n",
    "gff = gff[gff.Feature == 'gene']\n",
    "\n",
    "gff_short = gff[['Chromosome',  'Start', 'End', 'Strand', 'Source', \n",
    "                 'Feature', 'Score', 'Frame']].as_df()"
   ]
  },
  {
   "cell_type": "code",
   "execution_count": null,
   "metadata": {
    "ExecuteTime": {
     "end_time": "2023-02-07T09:37:45.724487Z",
     "start_time": "2023-02-07T09:37:45.700859Z"
    }
   },
   "outputs": [],
   "source": [
    "gff_short"
   ]
  },
  {
   "cell_type": "code",
   "execution_count": null,
   "metadata": {
    "ExecuteTime": {
     "end_time": "2023-02-07T09:37:52.662847Z",
     "start_time": "2023-02-07T09:37:52.580447Z"
    }
   },
   "outputs": [],
   "source": [
    "b = BedTool.from_dataframe(gff_short)\n",
    "b = b.sort()"
   ]
  },
  {
   "cell_type": "code",
   "execution_count": null,
   "metadata": {
    "ExecuteTime": {
     "end_time": "2023-02-07T09:37:57.855211Z",
     "start_time": "2023-02-07T09:37:57.798965Z"
    }
   },
   "outputs": [],
   "source": [
    "x = bar_bedtool.closest(b, D='b')"
   ]
  },
  {
   "cell_type": "code",
   "execution_count": null,
   "metadata": {
    "ExecuteTime": {
     "end_time": "2023-02-07T09:40:15.418496Z",
     "start_time": "2023-02-07T09:40:15.412644Z"
    }
   },
   "outputs": [],
   "source": []
  },
  {
   "cell_type": "code",
   "execution_count": null,
   "metadata": {
    "ExecuteTime": {
     "end_time": "2023-02-07T09:40:54.679617Z",
     "start_time": "2023-02-07T09:40:54.665132Z"
    }
   },
   "outputs": [],
   "source": [
    "x2 = x.to_dataframe(names=['chr', 'startoff', 'insertion_site', 'barcode'] + gff_cols + ['distance_to_feature'])\n"
   ]
  },
  {
   "cell_type": "code",
   "execution_count": null,
   "metadata": {
    "ExecuteTime": {
     "end_time": "2023-02-07T09:40:59.041055Z",
     "start_time": "2023-02-07T09:40:59.021307Z"
    }
   },
   "outputs": [],
   "source": [
    "x2[x2.distance_to_feature != 0].sample(10)"
   ]
  },
  {
   "cell_type": "code",
   "execution_count": null,
   "metadata": {
    "ExecuteTime": {
     "end_time": "2023-02-07T09:41:29.310339Z",
     "start_time": "2023-02-07T09:41:29.304795Z"
    }
   },
   "outputs": [],
   "source": [
    "short_cols = ['Chromosome', 'Start', 'End', 'Strand']"
   ]
  },
  {
   "cell_type": "code",
   "execution_count": null,
   "metadata": {
    "ExecuteTime": {
     "end_time": "2023-02-07T09:41:27.238050Z",
     "start_time": "2023-02-07T09:41:27.159190Z"
    }
   },
   "outputs": [],
   "source": [
    "gff2 = gff[short_cols + identifiers].as_df()"
   ]
  },
  {
   "cell_type": "code",
   "execution_count": null,
   "metadata": {
    "ExecuteTime": {
     "end_time": "2023-02-07T09:36:18.189115Z",
     "start_time": "2023-02-07T09:36:18.163310Z"
    }
   },
   "outputs": [],
   "source": []
  },
  {
   "cell_type": "code",
   "execution_count": null,
   "metadata": {},
   "outputs": [],
   "source": []
  },
  {
   "cell_type": "code",
   "execution_count": null,
   "metadata": {
    "ExecuteTime": {
     "end_time": "2023-02-07T09:41:34.274365Z",
     "start_time": "2023-02-07T09:41:34.255922Z"
    }
   },
   "outputs": [],
   "source": [
    "x3 = x2.merge(gff2, how='left', on=short_cols)"
   ]
  },
  {
   "cell_type": "code",
   "execution_count": null,
   "metadata": {},
   "outputs": [],
   "source": []
  },
  {
   "cell_type": "code",
   "execution_count": null,
   "metadata": {
    "ExecuteTime": {
     "end_time": "2023-02-07T09:41:36.213277Z",
     "start_time": "2023-02-07T09:41:36.189256Z"
    }
   },
   "outputs": [],
   "source": [
    "x3[x3.distance_to_feature != 0]"
   ]
  },
  {
   "cell_type": "code",
   "execution_count": null,
   "metadata": {
    "ExecuteTime": {
     "end_time": "2023-02-01T15:12:58.291174Z",
     "start_time": "2023-02-01T15:12:58.034319Z"
    }
   },
   "outputs": [],
   "source": [
    "# intersect=True\n",
    "# choose random subsample of barcodes\n",
    "\n",
    "def min_max(isite, start, end):\n",
    "            return round((isite - start)/(end-start),2)\n",
    "gff = pr.read_gff3(gff_file).as_df()\n",
    "    \n",
    "intersect_true = am.annotated_positions.dropna().sample(100, random_state=21).copy()\n",
    "intersect_true = (intersect_true.rename({'number_of_reads': 'abundance_in_mapping_library'}, axis=1)\n",
    "                  .drop(['strand'], axis=1)\n",
    "                )\n",
    "\n",
    "\n",
    "intersect_true = intersect_true.merge(gff[['Name', 'locus_tag','Start', 'End', 'Strand']], \n",
    "                                      how='left', on=['Name', 'locus_tag'])\n",
    "intersect_true['Start'] = intersect_true['Start'] + 1\n",
    "\n",
    "intersect_true['percentile'] = np.where(intersect_true.Strand.isin(['+','plus']), \n",
    "                                           min_max(intersect_true.insertion_site, intersect_true.Start, intersect_true.End), \n",
    "                                           min_max(intersect_true.insertion_site, intersect_true.End, intersect_true.Start))\n",
    "\n",
    "intersect_true = intersect_true.rename({'Start': 'gene_start', 'End': 'gene_end', 'Strand':'gene_strand'}, axis=1)\n",
    "\n",
    "intersect_true_dict = intersect_true.set_index('barcode').T.to_dict()\n",
    "intersect_true # write to json\n",
    "\n",
    "\n",
    "\n",
    "all([v == t[k] for k,v in intersect_true_dict.items()])\n",
    "\n",
    "\n"
   ]
  },
  {
   "cell_type": "code",
   "execution_count": null,
   "metadata": {
    "ExecuteTime": {
     "end_time": "2023-02-01T13:55:20.917191Z",
     "start_time": "2023-02-01T13:55:20.284518Z"
    }
   },
   "outputs": [],
   "source": [
    "def min_max(isite, start, end):\n",
    "            return round((isite - start)/(end-start),2)\n",
    "gff = pr.read_gff3(gff_file).as_df()\n",
    "am = AnnotatedMap(map_file, gff_file, feature_type, identifiers)\n",
    "am.annotate(intersect=False)\n",
    "intersect_false = am.annotated_positions[am.annotated_positions.distance_to_feature != 0].sample(100, random_state=21).copy()\n",
    "intersect_false = (intersect_false.rename({'number_of_reads': 'abundance_in_mapping_library'}, axis=1)\n",
    "                  .drop(['strand'], axis=1)\n",
    "                )\n",
    "\n",
    "\n",
    "intersect_false = intersect_false.merge(gff[['Name', 'locus_tag','Start', 'End', 'Strand']], \n",
    "                                    how='left', on=['Name', 'locus_tag'])\n",
    "intersect_false['Start'] = intersect_false['Start'] + 1\n",
    "\n",
    "intersect_false = intersect_false.rename({'Start': 'gene_start', 'End': 'gene_end', 'Strand':'gene_strand'}, axis=1)\n",
    "\n",
    "intersect_false_dict = intersect_false.set_index('barcode').T.to_dict()\n",
    "# intersect_true # write to json\n",
    "\n",
    "\n",
    "\n",
    "# all([v == t[k] for k,v in intersect_true_dict.items()])"
   ]
  },
  {
   "cell_type": "code",
   "execution_count": null,
   "metadata": {
    "ExecuteTime": {
     "end_time": "2023-02-01T16:57:07.094041Z",
     "start_time": "2023-02-01T16:57:07.078247Z"
    }
   },
   "outputs": [],
   "source": [
    "#intersect_false.to_json(\"annotate_map_expected_intersect_false.json\")"
   ]
  },
  {
   "cell_type": "code",
   "execution_count": null,
   "metadata": {
    "ExecuteTime": {
     "end_time": "2023-02-01T15:43:37.459586Z",
     "start_time": "2023-02-01T15:43:37.439268Z"
    }
   },
   "outputs": [],
   "source": [
    "intersect_true[intersect_true.barcode == 'CCAGGGACGTAAACGTC']"
   ]
  },
  {
   "cell_type": "code",
   "execution_count": null,
   "metadata": {
    "ExecuteTime": {
     "end_time": "2023-02-01T15:13:05.648423Z",
     "start_time": "2023-02-01T15:13:05.621362Z"
    }
   },
   "outputs": [],
   "source": [
    "#intersect_true.to_json('annotate_map_expected.json')"
   ]
  },
  {
   "cell_type": "code",
   "execution_count": null,
   "metadata": {
    "ExecuteTime": {
     "end_time": "2023-02-01T16:56:48.011783Z",
     "start_time": "2023-02-01T16:56:47.995833Z"
    }
   },
   "outputs": [],
   "source": [
    "def test_annotate_mapped_100bc(am, basic=True):\n",
    "    am.annotate(intersect=True)\n",
    "    expected = pd.read_json('annotate_map_expected.json')\n",
    "    expected['percentile'] = expected['percentile'].round(2)\n",
    "    \n",
    "    to_test = am.annotated_positions[am.annotated_positions.barcode.isin(expected.barcode.values)].copy()\n",
    "    if basic:\n",
    "        expected = expected[['barcode', 'chr', 'insertion_site', 'Name', 'locus_tag', 'distance_to_feature']]\n",
    "        to_test = to_test[['barcode', 'chr', 'insertion_site', 'Name', 'locus_tag', 'distance_to_feature']]\n",
    "\n",
    "    expected = expected.set_index('barcode').T.to_dict()\n",
    "    to_test = to_test.set_index('barcode').T.to_dict()\n",
    "    return all([ v == to_test[k] for k,v in expected.items()])\n",
    "\n",
    "\n",
    "def test_annotate_mapped_intersect_false_100bc(am, basic=True):\n",
    "    am.annotate(intersect=False)\n",
    "    expected = pd.read_json('annotate_map_expected_intersect_false.json')\n",
    "    expected['distance_to_feature'] = expected['distance_to_feature'].astype(int)\n",
    "    to_test = am.annotated_positions[am.annotated_positions.barcode.isin(expected.barcode.values)].copy()\n",
    "    if 'percentile' in to_test.columns:\n",
    "        assert to_test.percentile.isna().sum() == 100\n",
    "        to_test = to_test.drop('percentile', axis=1)\n",
    "    if basic:\n",
    "        expected = expected[['barcode', 'chr', 'insertion_site', 'Name',  'distance_to_feature']]\n",
    "        to_test = to_test[['barcode', 'chr', 'insertion_site', 'Name',  'distance_to_feature']]\n",
    "\n",
    "    expected = expected.set_index('barcode').T.to_dict()\n",
    "    to_test = to_test.set_index('barcode').T.to_dict()\n",
    "    #return expected['GCCCGGGTAACCTCGTA'], to_test['GCCCGGGTAACCTCGTA']\n",
    "    #return [k for k,v in expected.items() if v != to_test[k]]\n",
    "    return all([ v == to_test[k] for k,v in expected.items()])\n"
   ]
  },
  {
   "cell_type": "code",
   "execution_count": null,
   "metadata": {
    "ExecuteTime": {
     "end_time": "2023-02-01T15:13:23.473159Z",
     "start_time": "2023-02-01T15:13:22.747592Z"
    }
   },
   "outputs": [],
   "source": [
    "am = AnnotatedMap(map_file, gff_file, feature_type, identifiers)\n",
    "print(test_annotate_mapped_100bc(am))\n",
    "print(test_annotate_mapped_100bc(am))\n",
    "print(test_annotate_mapped_intersect_false_100bc(am))"
   ]
  },
  {
   "cell_type": "code",
   "execution_count": null,
   "metadata": {
    "ExecuteTime": {
     "end_time": "2023-02-01T16:57:12.562443Z",
     "start_time": "2023-02-01T16:57:11.372522Z"
    }
   },
   "outputs": [],
   "source": [
    "am = AnnotatedMap2(map_file, gff_file, feature_type, identifiers)\n",
    "print(test_annotate_mapped_100bc(am, False))\n",
    "print(test_annotate_mapped_intersect_false_100bc(am, True))"
   ]
  },
  {
   "cell_type": "code",
   "execution_count": null,
   "metadata": {
    "ExecuteTime": {
     "end_time": "2023-02-01T16:57:38.015723Z",
     "start_time": "2023-02-01T16:57:37.449365Z"
    }
   },
   "outputs": [],
   "source": [
    "am.annotate(intersect=False)"
   ]
  },
  {
   "cell_type": "code",
   "execution_count": null,
   "metadata": {
    "ExecuteTime": {
     "end_time": "2023-02-01T16:58:09.652559Z",
     "start_time": "2023-02-01T16:58:09.632759Z"
    }
   },
   "outputs": [],
   "source": [
    "am.annotated_positions[am.annotated_positions.barcode == 'AGCAAGTGATCGGATAG']"
   ]
  },
  {
   "cell_type": "code",
   "execution_count": null,
   "metadata": {
    "ExecuteTime": {
     "end_time": "2023-02-01T13:54:22.503542Z",
     "start_time": "2023-02-01T13:54:22.496275Z"
    }
   },
   "outputs": [],
   "source": [
    "type(a['percentile'])"
   ]
  },
  {
   "cell_type": "code",
   "execution_count": null,
   "metadata": {
    "ExecuteTime": {
     "end_time": "2023-02-01T14:01:36.540971Z",
     "start_time": "2023-02-01T14:01:36.524724Z"
    }
   },
   "outputs": [],
   "source": [
    "[k for k in a.keys() if a[k] != b[k]]"
   ]
  },
  {
   "cell_type": "code",
   "execution_count": null,
   "metadata": {
    "ExecuteTime": {
     "end_time": "2023-02-01T13:54:43.872854Z",
     "start_time": "2023-02-01T13:54:43.864397Z"
    }
   },
   "outputs": [],
   "source": [
    "a['percentile'] == b['percentile']"
   ]
  },
  {
   "cell_type": "code",
   "execution_count": null,
   "metadata": {
    "ExecuteTime": {
     "end_time": "2023-02-01T12:22:24.294256Z",
     "start_time": "2023-02-01T12:22:24.264745Z"
    }
   },
   "outputs": [],
   "source": [
    "eo = am.annotated_positions.copy()\n",
    "no = am2.annotated_positions.copy()\n",
    "no = (no[['barcode', 'insertion_site', 'Name', 'locus_tag', 'distance_to_feature' ]]\n",
    "    .sort_values(['barcode', 'locus_tag'])\n",
    "    .reset_index()\n",
    "     .drop(['index'], axis=1))\n",
    "eo = (eo[['barcode', 'insertion_site', 'Name', 'locus_tag', 'distance_to_feature' ]]\n",
    "      .sort_values(['barcode', 'locus_tag'])\n",
    "      .reset_index()\n",
    "      .drop(['index'], axis=1))\n",
    "#eo['Gene_strand'] = eo['Gene_strand'].replace({'minus':'+', 'plus':'-'})"
   ]
  },
  {
   "cell_type": "code",
   "execution_count": null,
   "metadata": {
    "ExecuteTime": {
     "end_time": "2023-02-01T12:19:21.785857Z",
     "start_time": "2023-02-01T12:19:21.761986Z"
    }
   },
   "outputs": [],
   "source": [
    "eo[eo.locus_tag.str.contains(':')]"
   ]
  },
  {
   "cell_type": "code",
   "execution_count": null,
   "metadata": {
    "ExecuteTime": {
     "end_time": "2023-02-01T12:21:40.782091Z",
     "start_time": "2023-02-01T12:21:40.771454Z"
    }
   },
   "outputs": [],
   "source": [
    "eo[~eo.distance_to_feature.isna()].shape"
   ]
  },
  {
   "cell_type": "code",
   "execution_count": null,
   "metadata": {
    "ExecuteTime": {
     "end_time": "2023-02-01T12:23:27.847672Z",
     "start_time": "2023-02-01T12:23:27.828222Z"
    }
   },
   "outputs": [],
   "source": []
  },
  {
   "cell_type": "code",
   "execution_count": null,
   "metadata": {
    "ExecuteTime": {
     "end_time": "2023-02-01T12:22:47.294018Z",
     "start_time": "2023-02-01T12:22:47.276692Z"
    }
   },
   "outputs": [],
   "source": [
    "no.sample(25)"
   ]
  },
  {
   "cell_type": "code",
   "execution_count": null,
   "metadata": {
    "ExecuteTime": {
     "end_time": "2023-02-01T12:20:54.646834Z",
     "start_time": "2023-02-01T12:20:54.633440Z"
    }
   },
   "outputs": [],
   "source": [
    "no[no.barcode =='TTGCGAAAAACATCCGC']"
   ]
  },
  {
   "cell_type": "code",
   "execution_count": null,
   "metadata": {
    "ExecuteTime": {
     "end_time": "2023-01-19T14:03:08.617600Z",
     "start_time": "2023-01-19T14:03:08.607022Z"
    }
   },
   "outputs": [],
   "source": [
    "eo.head(80).tail(10).equals(no.head(80).tail(10))"
   ]
  },
  {
   "cell_type": "code",
   "execution_count": null,
   "metadata": {
    "ExecuteTime": {
     "end_time": "2023-01-19T13:35:27.041075Z",
     "start_time": "2023-01-19T13:35:27.032832Z"
    }
   },
   "outputs": [],
   "source": [
    "enull = eo[eo.distance_to_feature == 0]"
   ]
  },
  {
   "cell_type": "code",
   "execution_count": null,
   "metadata": {
    "ExecuteTime": {
     "end_time": "2023-01-19T13:35:27.663507Z",
     "start_time": "2023-01-19T13:35:27.657696Z"
    }
   },
   "outputs": [],
   "source": [
    "nnull = no[no.distance_to_feature == 0]"
   ]
  },
  {
   "cell_type": "code",
   "execution_count": null,
   "metadata": {
    "ExecuteTime": {
     "end_time": "2023-01-19T13:26:49.179734Z",
     "start_time": "2023-01-19T13:26:49.164412Z"
    }
   },
   "outputs": [],
   "source": [
    "eo[eo.barcode == 'CCACTCCGCTTCTTGCA']"
   ]
  },
  {
   "cell_type": "code",
   "execution_count": null,
   "metadata": {
    "ExecuteTime": {
     "end_time": "2023-01-19T11:58:53.187973Z",
     "start_time": "2023-01-19T11:58:53.171844Z"
    }
   },
   "outputs": [],
   "source": [
    "no[no.barcode == 'GCGCATCATTGCATGCA']"
   ]
  },
  {
   "cell_type": "code",
   "execution_count": null,
   "metadata": {
    "ExecuteTime": {
     "end_time": "2023-01-19T13:33:03.760072Z",
     "start_time": "2023-01-19T13:33:03.402571Z"
    }
   },
   "outputs": [],
   "source": [
    "gff = pr.read_gff3(gff_file)"
   ]
  },
  {
   "cell_type": "code",
   "execution_count": null,
   "metadata": {
    "ExecuteTime": {
     "end_time": "2023-01-19T13:12:54.934291Z",
     "start_time": "2023-01-19T13:12:54.930033Z"
    }
   },
   "outputs": [],
   "source": [
    "2884860 - 2884712"
   ]
  },
  {
   "cell_type": "code",
   "execution_count": null,
   "metadata": {
    "ExecuteTime": {
     "end_time": "2023-01-19T13:12:59.295206Z",
     "start_time": "2023-01-19T13:12:59.289396Z"
    }
   },
   "outputs": [],
   "source": [
    "2885006 - 2884860"
   ]
  },
  {
   "cell_type": "code",
   "execution_count": null,
   "metadata": {
    "ExecuteTime": {
     "end_time": "2023-01-19T13:33:47.147465Z",
     "start_time": "2023-01-19T13:33:47.103277Z"
    }
   },
   "outputs": [],
   "source": [
    "gff.head()"
   ]
  },
  {
   "cell_type": "code",
   "execution_count": null,
   "metadata": {
    "ExecuteTime": {
     "end_time": "2023-01-19T13:11:07.363523Z",
     "start_time": "2023-01-19T13:11:07.321723Z"
    }
   },
   "outputs": [],
   "source": [
    "gff[gff.ID == 'gene-SL1344_2704']"
   ]
  },
  {
   "cell_type": "code",
   "execution_count": null,
   "metadata": {
    "ExecuteTime": {
     "end_time": "2023-01-19T11:58:03.786776Z",
     "start_time": "2023-01-19T11:58:03.760797Z"
    }
   },
   "outputs": [],
   "source": [
    "enull.merge(nnull, how='outer', on='barcode')"
   ]
  },
  {
   "cell_type": "code",
   "execution_count": null,
   "metadata": {
    "ExecuteTime": {
     "end_time": "2023-01-19T13:36:33.206753Z",
     "start_time": "2023-01-19T13:36:33.191642Z"
    }
   },
   "outputs": [],
   "source": [
    "eo[eo.barcode == 'GGATAGCACCCAAAAAG']"
   ]
  },
  {
   "cell_type": "code",
   "execution_count": null,
   "metadata": {
    "ExecuteTime": {
     "end_time": "2023-01-19T13:36:35.011159Z",
     "start_time": "2023-01-19T13:36:34.995884Z"
    }
   },
   "outputs": [],
   "source": [
    "no[no.barcode == 'GGATAGCACCCAAAAAG']"
   ]
  },
  {
   "cell_type": "code",
   "execution_count": null,
   "metadata": {
    "ExecuteTime": {
     "end_time": "2022-11-25T12:09:48.138978Z",
     "start_time": "2022-11-25T12:09:48.131459Z"
    }
   },
   "outputs": [],
   "source": [
    "1551266-1551220"
   ]
  },
  {
   "cell_type": "code",
   "execution_count": null,
   "metadata": {
    "ExecuteTime": {
     "end_time": "2022-11-25T12:13:16.236724Z",
     "start_time": "2022-11-25T12:13:16.209558Z"
    }
   },
   "outputs": [],
   "source": [
    "am.annotated_positions.merge(am2.annotated_positions, on='barcode').sample(20)"
   ]
  },
  {
   "cell_type": "code",
   "execution_count": null,
   "metadata": {
    "ExecuteTime": {
     "end_time": "2022-11-25T12:00:34.693758Z",
     "start_time": "2022-11-25T12:00:34.676683Z"
    }
   },
   "outputs": [],
   "source": [
    "eo[eo.distance_to_feature != 0].head(20)"
   ]
  },
  {
   "cell_type": "code",
   "execution_count": null,
   "metadata": {
    "ExecuteTime": {
     "end_time": "2022-11-25T11:17:49.348359Z",
     "start_time": "2022-11-25T11:17:49.333538Z"
    }
   },
   "outputs": [],
   "source": [
    "no.head()"
   ]
  },
  {
   "cell_type": "code",
   "execution_count": null,
   "metadata": {
    "ExecuteTime": {
     "end_time": "2022-11-25T10:42:43.437241Z",
     "start_time": "2022-11-25T10:42:43.429250Z"
    }
   },
   "outputs": [],
   "source": [
    "expected_outcome = expected_outcome [['eo_barcode', 'eo_insertion_site', 'eo_Name', 'eo_locus_tag', 'eo_distance_to_feature']]"
   ]
  },
  {
   "cell_type": "code",
   "execution_count": null,
   "metadata": {
    "ExecuteTime": {
     "end_time": "2022-11-25T10:06:26.431822Z",
     "start_time": "2022-11-25T10:06:26.225880Z"
    }
   },
   "outputs": [],
   "source": []
  },
  {
   "cell_type": "code",
   "execution_count": null,
   "metadata": {
    "ExecuteTime": {
     "end_time": "2022-11-25T10:42:56.365591Z",
     "start_time": "2022-11-25T10:42:56.359660Z"
    }
   },
   "outputs": [],
   "source": [
    "#map_file = root/'dnaid1315/expected_outcomes/23-06-22-library_11_1.map.csv'\n",
    "#bed_file = root/'dnaid1315/expected_outcomes/library_11_1.bed'\n",
    "gff_file = root/\"dnaid1315/ref/GCA_000210855.2_ASM21085v2_genomic.gff\"\n",
    "feature_type = 'gene'\n",
    "identifiers = ['Name', 'locus_tag']"
   ]
  },
  {
   "cell_type": "code",
   "execution_count": null,
   "metadata": {
    "ExecuteTime": {
     "end_time": "2022-11-25T12:16:17.478732Z",
     "start_time": "2022-11-25T12:16:17.152749Z"
    }
   },
   "outputs": [],
   "source": [
    "bc_df = am.positions[['chr', 'insertion_site', 'barcode', 'number_of_reads']]\n",
    "bc_df['Start'] = bc_df['insertion_site'] - 1\n",
    "bc_df = bc_df[['chr', 'Start', 'insertion_site', 'barcode', 'number_of_reads']]\n",
    "barcodes = BedTool.from_dataframe(bc_df).sort()\n",
    "gff = pr.read_gff3(gff_file)\n",
    "to_keep = ['Chromosome', 'Source', 'Feature', 'Start', 'End', 'Score', 'Strand'] + identifiers\n",
    "anot = gff[gff.Feature == feature_type][to_keep].as_df()\n",
    "genes = BedTool.from_dataframe(anot).sort()"
   ]
  },
  {
   "cell_type": "code",
   "execution_count": null,
   "metadata": {
    "ExecuteTime": {
     "end_time": "2022-11-25T12:10:12.769029Z",
     "start_time": "2022-11-25T12:10:12.762051Z"
    }
   },
   "outputs": [],
   "source": [
    "names = ['bc_chr', 'bc_start', 'bc_insertion_site',\n",
    "                                      'barcode', 'number_of_reads', 'chr', 'source', 'feature', 'feat_start',\n",
    "                                      'feat_end', 'score', 'strand'] + identifiers + ['distance_to_feat']\n",
    "                                      "
   ]
  },
  {
   "cell_type": "code",
   "execution_count": null,
   "metadata": {
    "ExecuteTime": {
     "end_time": "2022-11-25T12:16:19.185004Z",
     "start_time": "2022-11-25T12:16:19.165257Z"
    }
   },
   "outputs": [],
   "source": [
    "bc_df"
   ]
  },
  {
   "cell_type": "code",
   "execution_count": null,
   "metadata": {
    "ExecuteTime": {
     "end_time": "2022-11-25T12:13:34.071509Z",
     "start_time": "2022-11-25T12:13:34.017814Z"
    }
   },
   "outputs": [],
   "source": [
    "cl = barcodes.closest(genes, D='b').to_dataframe(names=names)"
   ]
  },
  {
   "cell_type": "code",
   "execution_count": null,
   "metadata": {
    "ExecuteTime": {
     "end_time": "2022-11-25T12:13:35.399567Z",
     "start_time": "2022-11-25T12:13:35.372799Z"
    }
   },
   "outputs": [],
   "source": [
    "cl"
   ]
  },
  {
   "cell_type": "code",
   "execution_count": null,
   "metadata": {
    "ExecuteTime": {
     "end_time": "2022-11-25T12:18:41.690018Z",
     "start_time": "2022-11-25T12:18:41.682435Z"
    }
   },
   "outputs": [],
   "source": [
    "4703859 - 4703820"
   ]
  },
  {
   "cell_type": "code",
   "execution_count": null,
   "metadata": {
    "ExecuteTime": {
     "end_time": "2022-11-25T12:18:07.681485Z",
     "start_time": "2022-11-25T12:18:07.662031Z"
    }
   },
   "outputs": [],
   "source": [
    "cl[cl.barcode == 'ACTGTTGCGACACTTCA']"
   ]
  },
  {
   "cell_type": "code",
   "execution_count": null,
   "metadata": {
    "ExecuteTime": {
     "end_time": "2022-11-25T12:13:56.469578Z",
     "start_time": "2022-11-25T12:13:56.453023Z"
    }
   },
   "outputs": [],
   "source": [
    "eo[eo.barcode == 'TGACCACGTTAGCATAG']"
   ]
  },
  {
   "cell_type": "code",
   "execution_count": null,
   "metadata": {
    "ExecuteTime": {
     "end_time": "2022-11-25T10:58:30.321201Z",
     "start_time": "2022-11-25T10:58:30.304574Z"
    }
   },
   "outputs": [],
   "source": [
    "fdf[fdf.barcode == 'GGATAGCACCCAAAAAG']"
   ]
  },
  {
   "cell_type": "code",
   "execution_count": null,
   "metadata": {
    "ExecuteTime": {
     "end_time": "2022-11-25T10:48:39.075674Z",
     "start_time": "2022-11-25T10:48:39.058363Z"
    }
   },
   "outputs": [],
   "source": [
    "fdf.groupby('barcode').eo_barcode.count().reset_index().sort_values('eo_barcode').tail(10)"
   ]
  },
  {
   "cell_type": "code",
   "execution_count": null,
   "metadata": {
    "ExecuteTime": {
     "end_time": "2022-11-25T10:26:20.482416Z",
     "start_time": "2022-11-25T10:26:20.424056Z"
    }
   },
   "outputs": [],
   "source": [
    "g_and_b = genes.intersect(barcodes, wb=True).to_dataframe()"
   ]
  },
  {
   "cell_type": "code",
   "execution_count": null,
   "metadata": {
    "ExecuteTime": {
     "end_time": "2022-11-25T10:29:23.697450Z",
     "start_time": "2022-11-25T10:29:23.676467Z"
    }
   },
   "outputs": [],
   "source": [
    "expected_outcome.sort_values('barcode')"
   ]
  },
  {
   "cell_type": "code",
   "execution_count": null,
   "metadata": {
    "ExecuteTime": {
     "end_time": "2022-11-25T10:29:16.077538Z",
     "start_time": "2022-11-25T10:29:16.053637Z"
    }
   },
   "outputs": [],
   "source": [
    "b_and_g.sort_values('name')"
   ]
  },
  {
   "cell_type": "code",
   "execution_count": null,
   "metadata": {
    "ExecuteTime": {
     "end_time": "2022-11-24T14:26:54.282963Z",
     "start_time": "2022-11-24T14:26:54.264755Z"
    }
   },
   "outputs": [],
   "source": [
    "\n",
    "\n",
    "def _find_annotation_overlaps(map_file, gff_file, feature_type, identifiers, intersect=True):\n",
    "    \n",
    "    def min_max(isite, start, end):\n",
    "        return round((isite - start)/(end-start),2)\n",
    "    \n",
    "    gff = pr.read_gff3(gff_file)\n",
    "    to_keep = ['Chromosome', 'Start', 'End', 'Strand'] + identifiers\n",
    "    anot = gff[gff.Feature == feature_type][to_keep]\n",
    "    positions = pd.read_csv(map_file)\n",
    "    pos = positions.rename({'chr': 'Chromosome', 'insertion_site': 'Start'}, axis=1).drop('strand', axis=1)\n",
    "    pos['End'] = pos['Start']\n",
    "    pos = pr.PyRanges(pos)\n",
    "    df = pos.k_nearest(anot, k=3, apply_strand_suffix=False).as_df()\n",
    "    df['Distance'] = abs(df['Distance'])\n",
    "    min_df = df.groupby('barcode').Distance.min().reset_index()\n",
    "    final = min_df.merge(df, on=['barcode', 'Distance'], how='left')\n",
    "    intersect_df = final[final.Distance == 0].copy()\n",
    "    intersect_df['percentile'] = np.where(intersect_df.Strand == '+', \n",
    "                                          min_max(intersect_df.Start, intersect_df.Start_b, intersect_df.End_b), \n",
    "                                          min_max(intersect_df.Start, intersect_df.End_b, intersect_df.Start_b))\n",
    "    if intersect == True:\n",
    "        return intersect_df\n",
    "    else:\n",
    "        closest_df = final[final.Distance != 0].copy()\n",
    "        print(closest_df[closest_df.barcode == 'GGAGTGTCCGTAGGCTG'])\n",
    "        closest_df['in_front'] = np.where(closest_df.Strand == '+', \n",
    "                                          closest_df.Start < closest_df.Start_b,\n",
    "                                          closest_df.Start > closest_df.End_b)\n",
    "        closest_df['in_front'] = closest_df.in_front.replace({True: -1, False: 1})\n",
    "        print(closest_df[closest_df.barcode == 'GGAGTGTCCGTAGGCTG'])\n",
    "        closest_df['Distance'] = closest_df.in_front * closest_df.Distance\n",
    "        print(closest_df[closest_df.barcode == 'GGAGTGTCCGTAGGCTG'])  \n",
    "        closest_df = closest_df.drop(['in_front'], axis=1)\n",
    "        print(closest_df[closest_df.barcode == 'GGAGTGTCCGTAGGCTG'])\n",
    "        return pd.concat([intersect_df, closest_df])\n",
    "    "
   ]
  },
  {
   "cell_type": "code",
   "execution_count": null,
   "metadata": {
    "ExecuteTime": {
     "end_time": "2022-11-24T14:25:50.861017Z",
     "start_time": "2022-11-24T14:25:50.856614Z"
    }
   },
   "outputs": [],
   "source": [
    "# todo write validation code\n",
    "# Assume Feature and identifiers will be in columns"
   ]
  },
  {
   "cell_type": "code",
   "execution_count": null,
   "metadata": {
    "ExecuteTime": {
     "end_time": "2022-11-24T14:26:40.920675Z",
     "start_time": "2022-11-24T14:26:40.473046Z"
    }
   },
   "outputs": [],
   "source": [
    "fdf = _find_annotation_overlaps(map_file, gff_file, feature_type, identifiers, intersect=False)"
   ]
  },
  {
   "cell_type": "code",
   "execution_count": null,
   "metadata": {
    "ExecuteTime": {
     "end_time": "2022-11-24T14:19:43.702361Z",
     "start_time": "2022-11-24T14:19:43.683659Z"
    }
   },
   "outputs": [],
   "source": [
    "fdf[fdf.barcode == 'AAAAAGGACAATATGCG']"
   ]
  },
  {
   "cell_type": "code",
   "execution_count": null,
   "metadata": {
    "ExecuteTime": {
     "end_time": "2022-11-24T14:19:59.265526Z",
     "start_time": "2022-11-24T14:19:59.249656Z"
    }
   },
   "outputs": [],
   "source": [
    "expected_outcome[expected_outcome.barcode == 'AAAAAGGACAATATGCG']"
   ]
  },
  {
   "cell_type": "code",
   "execution_count": null,
   "metadata": {
    "ExecuteTime": {
     "end_time": "2022-11-24T14:21:11.071810Z",
     "start_time": "2022-11-24T14:21:11.054247Z"
    }
   },
   "outputs": [],
   "source": [
    "fdf.groupby('barcode').locus_tag.count().reset_index().sort_values('locus_tag').tail(10)"
   ]
  },
  {
   "cell_type": "code",
   "execution_count": null,
   "metadata": {
    "ExecuteTime": {
     "end_time": "2022-11-24T14:29:50.436332Z",
     "start_time": "2022-11-24T14:29:50.416292Z"
    }
   },
   "outputs": [],
   "source": [
    "fdf[fdf.barcode == 'GGATAGCACCCAAAAAG']"
   ]
  },
  {
   "cell_type": "code",
   "execution_count": null,
   "metadata": {
    "ExecuteTime": {
     "end_time": "2022-11-24T14:21:00.328095Z",
     "start_time": "2022-11-24T14:21:00.311236Z"
    }
   },
   "outputs": [],
   "source": [
    "am.annotated_positions.groupby('barcode').locus_tag.count().reset_index().sort_values('locus_tag').tail(10)"
   ]
  },
  {
   "cell_type": "code",
   "execution_count": null,
   "metadata": {
    "ExecuteTime": {
     "end_time": "2022-11-24T13:50:16.449765Z",
     "start_time": "2022-11-24T13:50:16.443026Z"
    }
   },
   "outputs": [],
   "source": []
  },
  {
   "cell_type": "code",
   "execution_count": null,
   "metadata": {
    "ExecuteTime": {
     "end_time": "2022-11-24T13:50:22.473972Z",
     "start_time": "2022-11-24T13:50:22.465844Z"
    }
   },
   "outputs": [],
   "source": []
  },
  {
   "cell_type": "code",
   "execution_count": null,
   "metadata": {
    "ExecuteTime": {
     "end_time": "2022-11-24T13:50:25.204446Z",
     "start_time": "2022-11-24T13:50:25.193183Z"
    }
   },
   "outputs": [],
   "source": [
    "fdf = "
   ]
  },
  {
   "cell_type": "code",
   "execution_count": null,
   "metadata": {
    "ExecuteTime": {
     "end_time": "2022-11-24T13:50:27.013342Z",
     "start_time": "2022-11-24T13:50:27.005656Z"
    }
   },
   "outputs": [],
   "source": [
    "fdf.barcode.nunique()"
   ]
  },
  {
   "cell_type": "code",
   "execution_count": null,
   "metadata": {
    "ExecuteTime": {
     "end_time": "2022-11-17T13:33:11.403264Z",
     "start_time": "2022-11-17T13:33:11.390746Z"
    }
   },
   "outputs": [],
   "source": [
    "test = pos[pos.barcode ==  'TCCACTGGAAGGAGAGC']"
   ]
  },
  {
   "cell_type": "code",
   "execution_count": null,
   "metadata": {
    "ExecuteTime": {
     "end_time": "2022-11-17T13:36:22.383939Z",
     "start_time": "2022-11-17T13:36:22.360112Z"
    }
   },
   "outputs": [],
   "source": [
    "test"
   ]
  },
  {
   "cell_type": "code",
   "execution_count": null,
   "metadata": {
    "ExecuteTime": {
     "end_time": "2022-11-17T14:53:46.742945Z",
     "start_time": "2022-11-17T14:53:46.703897Z"
    }
   },
   "outputs": [],
   "source": [
    "x = pos.intersect(anot)#.as_df().merge(pos.as_df(), on=['Chromosome', 'Start', 'End'])"
   ]
  },
  {
   "cell_type": "code",
   "execution_count": null,
   "metadata": {
    "ExecuteTime": {
     "end_time": "2022-11-17T14:54:01.512498Z",
     "start_time": "2022-11-17T14:54:01.501533Z"
    }
   },
   "outputs": [],
   "source": [
    "pos.barcode.nunique()"
   ]
  },
  {
   "cell_type": "code",
   "execution_count": null,
   "metadata": {
    "ExecuteTime": {
     "end_time": "2022-11-18T08:43:15.936438Z",
     "start_time": "2022-11-18T08:43:15.917669Z"
    }
   },
   "outputs": [],
   "source": [
    "gr1 = pr.from_dict({'Chromosome': ['FQ312003.1'] , \n",
    "                    'Start':[878889], 'End': [878890], 'ID': ['TCCACTGGAAGGAGAGC']})\n",
    "gr2 = pr.from_dict({'Chromosome': ['FQ312003.1', 'FQ312003.1'],\n",
    "                   'Start': [878495, 878867], \n",
    "                   'End': [878906, 879974],\n",
    "                   'Name': ['ybhQ', 'ybhR']})\n"
   ]
  },
  {
   "cell_type": "code",
   "execution_count": null,
   "metadata": {
    "ExecuteTime": {
     "end_time": "2022-11-18T08:49:35.330589Z",
     "start_time": "2022-11-18T08:49:35.295997Z"
    }
   },
   "outputs": [],
   "source": [
    "gr1.nearest(gr2)"
   ]
  },
  {
   "cell_type": "code",
   "execution_count": null,
   "metadata": {
    "ExecuteTime": {
     "end_time": "2022-11-18T08:49:36.721414Z",
     "start_time": "2022-11-18T08:49:36.673814Z"
    }
   },
   "outputs": [],
   "source": [
    "gr1.k_nearest(gr2, k=1)"
   ]
  },
  {
   "cell_type": "code",
   "execution_count": null,
   "metadata": {
    "ExecuteTime": {
     "end_time": "2022-11-18T08:43:48.454800Z",
     "start_time": "2022-11-18T08:43:48.398232Z"
    }
   },
   "outputs": [],
   "source": [
    "gr1.k_nearest(gr2, k=2)"
   ]
  },
  {
   "cell_type": "code",
   "execution_count": null,
   "metadata": {
    "ExecuteTime": {
     "end_time": "2022-11-18T08:41:47.468440Z",
     "start_time": "2022-11-18T08:41:47.407070Z"
    }
   },
   "outputs": [],
   "source": [
    "gr1.k_nearest(gr2, k=1, strandedness=None, apply_strand_suffix=True)"
   ]
  },
  {
   "cell_type": "code",
   "execution_count": null,
   "metadata": {
    "ExecuteTime": {
     "end_time": "2022-11-18T08:41:54.375351Z",
     "start_time": "2022-11-18T08:41:54.294889Z"
    }
   },
   "outputs": [],
   "source": [
    "gr1.k_nearest(gr2, k=1, strandedness=None, apply_strand_suffix=False)"
   ]
  },
  {
   "cell_type": "code",
   "execution_count": null,
   "metadata": {
    "ExecuteTime": {
     "end_time": "2022-11-18T08:39:31.182674Z",
     "start_time": "2022-11-18T08:39:31.156138Z"
    }
   },
   "outputs": [],
   "source": [
    "test"
   ]
  },
  {
   "cell_type": "code",
   "execution_count": null,
   "metadata": {
    "ExecuteTime": {
     "end_time": "2022-11-18T08:39:45.435756Z",
     "start_time": "2022-11-18T08:39:45.342988Z"
    }
   },
   "outputs": [],
   "source": [
    "test.k_nearest(anot, k=1)"
   ]
  },
  {
   "cell_type": "code",
   "execution_count": null,
   "metadata": {
    "ExecuteTime": {
     "end_time": "2022-11-18T08:38:58.464490Z",
     "start_time": "2022-11-18T08:38:58.401976Z"
    }
   },
   "outputs": [],
   "source": [
    "gr1.k_nearest(gr2, k=1, apply_strand_suffix=True)"
   ]
  },
  {
   "cell_type": "code",
   "execution_count": null,
   "metadata": {
    "ExecuteTime": {
     "end_time": "2022-11-18T08:37:02.888743Z",
     "start_time": "2022-11-18T08:37:02.851542Z"
    }
   },
   "outputs": [],
   "source": [
    "gr1.nearest(gr2, apply_strand_suffix=False)"
   ]
  },
  {
   "cell_type": "code",
   "execution_count": null,
   "metadata": {
    "ExecuteTime": {
     "end_time": "2022-11-18T08:24:46.870038Z",
     "start_time": "2022-11-18T08:24:46.850363Z"
    }
   },
   "outputs": [],
   "source": []
  },
  {
   "cell_type": "code",
   "execution_count": null,
   "metadata": {
    "ExecuteTime": {
     "end_time": "2022-11-18T08:18:59.663285Z",
     "start_time": "2022-11-18T08:18:59.633393Z"
    }
   },
   "outputs": [],
   "source": [
    "?pos.nearest"
   ]
  },
  {
   "cell_type": "code",
   "execution_count": null,
   "metadata": {
    "ExecuteTime": {
     "end_time": "2022-11-18T08:06:54.621382Z",
     "start_time": "2022-11-18T08:06:54.395111Z"
    }
   },
   "outputs": [],
   "source": [
    "df = pos.k_nearest(anot, k=2,strandedness=False, apply_strand_suffix=False).as_df()"
   ]
  },
  {
   "cell_type": "code",
   "execution_count": null,
   "metadata": {
    "ExecuteTime": {
     "end_time": "2022-11-18T08:06:56.606022Z",
     "start_time": "2022-11-18T08:06:56.586565Z"
    }
   },
   "outputs": [],
   "source": [
    "df[df.barcode == \"AAAAAGGACAATATGCG\"]"
   ]
  },
  {
   "cell_type": "code",
   "execution_count": null,
   "metadata": {
    "ExecuteTime": {
     "end_time": "2022-11-18T08:07:22.439833Z",
     "start_time": "2022-11-18T08:07:22.339811Z"
    }
   },
   "outputs": [],
   "source": [
    "df.Distance.hist()"
   ]
  },
  {
   "cell_type": "code",
   "execution_count": null,
   "metadata": {
    "ExecuteTime": {
     "end_time": "2022-11-18T08:06:43.140165Z",
     "start_time": "2022-11-18T08:06:42.055234Z"
    }
   },
   "outputs": [],
   "source": [
    "df2.Distance.hist()"
   ]
  },
  {
   "cell_type": "code",
   "execution_count": null,
   "metadata": {
    "ExecuteTime": {
     "end_time": "2022-11-18T08:03:22.083578Z",
     "start_time": "2022-11-18T08:03:22.064251Z"
    }
   },
   "outputs": [],
   "source": [
    "df.head()"
   ]
  },
  {
   "cell_type": "code",
   "execution_count": null,
   "metadata": {
    "ExecuteTime": {
     "end_time": "2022-11-18T08:03:35.237425Z",
     "start_time": "2022-11-18T08:03:35.218120Z"
    }
   },
   "outputs": [],
   "source": [
    "max_df  = df.groupby('barcode').Distance.max().reset_index()\n",
    "max_df[max_df.Distance <= 0]"
   ]
  },
  {
   "cell_type": "code",
   "execution_count": null,
   "metadata": {
    "ExecuteTime": {
     "end_time": "2022-11-17T15:13:02.830369Z",
     "start_time": "2022-11-17T15:13:02.818052Z"
    }
   },
   "outputs": [],
   "source": []
  },
  {
   "cell_type": "code",
   "execution_count": null,
   "metadata": {
    "ExecuteTime": {
     "end_time": "2022-11-18T08:02:32.188621Z",
     "start_time": "2022-11-18T08:02:32.179343Z"
    }
   },
   "outputs": [],
   "source": [
    "min_df  = df.groupby('barcode').Distance.min().reset_index()"
   ]
  },
  {
   "cell_type": "code",
   "execution_count": null,
   "metadata": {
    "ExecuteTime": {
     "end_time": "2022-11-17T15:00:36.895521Z",
     "start_time": "2022-11-17T15:00:36.883059Z"
    }
   },
   "outputs": [],
   "source": [
    "l = df.merge(min_df, on=['barcode', 'Distance'], how='inner')"
   ]
  },
  {
   "cell_type": "code",
   "execution_count": null,
   "metadata": {
    "ExecuteTime": {
     "end_time": "2022-11-18T08:02:39.241237Z",
     "start_time": "2022-11-18T08:02:39.229638Z"
    }
   },
   "outputs": [],
   "source": [
    "min_df"
   ]
  },
  {
   "cell_type": "code",
   "execution_count": null,
   "metadata": {
    "ExecuteTime": {
     "end_time": "2022-11-17T14:58:23.511061Z",
     "start_time": "2022-11-17T14:58:23.495364Z"
    }
   },
   "outputs": [],
   "source": [
    "df"
   ]
  },
  {
   "cell_type": "code",
   "execution_count": null,
   "metadata": {
    "ExecuteTime": {
     "end_time": "2022-11-17T14:58:18.730285Z",
     "start_time": "2022-11-17T14:58:18.714017Z"
    }
   },
   "outputs": [],
   "source": [
    "l"
   ]
  },
  {
   "cell_type": "code",
   "execution_count": null,
   "metadata": {
    "ExecuteTime": {
     "end_time": "2022-11-17T13:39:15.904348Z",
     "start_time": "2022-11-17T13:39:15.890536Z"
    }
   },
   "outputs": [],
   "source": [
    "x.barcode.nunique()"
   ]
  },
  {
   "cell_type": "code",
   "execution_count": null,
   "metadata": {
    "ExecuteTime": {
     "end_time": "2022-11-17T13:28:31.501277Z",
     "start_time": "2022-11-17T13:28:31.482339Z"
    }
   },
   "outputs": [],
   "source": [
    "fdf[fdf.barcode == 'TCCACTGGAAGGAGAGC']"
   ]
  },
  {
   "cell_type": "code",
   "execution_count": null,
   "metadata": {
    "ExecuteTime": {
     "end_time": "2022-11-17T13:28:11.781471Z",
     "start_time": "2022-11-17T13:28:11.765053Z"
    }
   },
   "outputs": [],
   "source": [
    "expected_outcome[expected_outcome.barcode == 'TCCACTGGAAGGAGAGC']"
   ]
  },
  {
   "cell_type": "code",
   "execution_count": null,
   "metadata": {
    "ExecuteTime": {
     "end_time": "2022-11-17T13:27:50.086890Z",
     "start_time": "2022-11-17T13:27:50.069194Z"
    }
   },
   "outputs": [],
   "source": [
    "expected_outcome[expected_outcome.barcode.duplicated()]"
   ]
  },
  {
   "cell_type": "code",
   "execution_count": null,
   "metadata": {
    "ExecuteTime": {
     "end_time": "2022-11-17T13:23:22.753572Z",
     "start_time": "2022-11-17T13:23:22.713941Z"
    }
   },
   "outputs": [],
   "source": [
    "p0[p0.barcode == 'GTACTACGATTCGGAAC']"
   ]
  },
  {
   "cell_type": "code",
   "execution_count": null,
   "metadata": {
    "ExecuteTime": {
     "end_time": "2022-11-17T11:49:20.667447Z",
     "start_time": "2022-11-17T11:49:20.647184Z"
    }
   },
   "outputs": [],
   "source": [
    "expected_outcome.dropna(subset=['distance_to_feature']).head(10)"
   ]
  },
  {
   "cell_type": "code",
   "execution_count": null,
   "metadata": {
    "ExecuteTime": {
     "end_time": "2022-11-17T11:52:17.154816Z",
     "start_time": "2022-11-17T11:52:17.132779Z"
    }
   },
   "outputs": [],
   "source": [
    "p0.to_df().sort_values('barcode')"
   ]
  },
  {
   "cell_type": "code",
   "execution_count": null,
   "metadata": {
    "ExecuteTime": {
     "end_time": "2022-11-17T10:58:42.581721Z",
     "start_time": "2022-11-17T10:58:42.557647Z"
    }
   },
   "outputs": [],
   "source": [
    "t  = p0[p0.Strand_b =='+'] \n",
    "\n",
    "min_max(t.Start, t.Start_b, t.End_b)"
   ]
  },
  {
   "cell_type": "code",
   "execution_count": null,
   "metadata": {
    "ExecuteTime": {
     "end_time": "2022-11-17T10:52:00.107672Z",
     "start_time": "2022-11-17T10:51:59.221663Z"
    }
   },
   "outputs": [],
   "source": [
    "p0.apply(min_max)"
   ]
  },
  {
   "cell_type": "code",
   "execution_count": null,
   "metadata": {
    "ExecuteTime": {
     "end_time": "2022-11-17T10:35:05.101516Z",
     "start_time": "2022-11-17T10:35:05.094759Z"
    }
   },
   "outputs": [],
   "source": [
    "(16097-16087)/(16432 - 16087)"
   ]
  },
  {
   "cell_type": "code",
   "execution_count": null,
   "metadata": {
    "ExecuteTime": {
     "end_time": "2022-11-17T10:36:03.544329Z",
     "start_time": "2022-11-17T10:36:03.536891Z"
    }
   },
   "outputs": [],
   "source": [
    "10/345*100"
   ]
  },
  {
   "cell_type": "code",
   "execution_count": null,
   "metadata": {
    "ExecuteTime": {
     "end_time": "2022-11-17T10:36:46.605857Z",
     "start_time": "2022-11-17T10:36:46.598280Z"
    }
   },
   "outputs": [],
   "source": [
    "(21143-20057)/(23054- 20057)"
   ]
  },
  {
   "cell_type": "code",
   "execution_count": null,
   "metadata": {
    "ExecuteTime": {
     "end_time": "2022-11-17T10:36:57.961131Z",
     "start_time": "2022-11-17T10:36:57.954717Z"
    }
   },
   "outputs": [],
   "source": [
    "23054- 20057"
   ]
  },
  {
   "cell_type": "code",
   "execution_count": null,
   "metadata": {
    "ExecuteTime": {
     "end_time": "2022-11-17T10:37:07.045167Z",
     "start_time": "2022-11-17T10:37:07.039200Z"
    }
   },
   "outputs": [],
   "source": [
    "21143-20057"
   ]
  },
  {
   "cell_type": "code",
   "execution_count": null,
   "metadata": {},
   "outputs": [],
   "source": []
  }
 ],
 "metadata": {
  "kernelspec": {
   "display_name": "Python 3 (ipykernel)",
   "language": "python",
   "name": "python3"
  },
  "language_info": {
   "codemirror_mode": {
    "name": "ipython",
    "version": 3
   },
   "file_extension": ".py",
   "mimetype": "text/x-python",
   "name": "python",
   "nbconvert_exporter": "python",
   "pygments_lexer": "ipython3",
   "version": "3.8.12"
  },
  "toc": {
   "base_numbering": 1,
   "nav_menu": {},
   "number_sections": true,
   "sideBar": true,
   "skip_h1_title": false,
   "title_cell": "Table of Contents",
   "title_sidebar": "Contents",
   "toc_cell": false,
   "toc_position": {},
   "toc_section_display": true,
   "toc_window_display": false
  }
 },
 "nbformat": 4,
 "nbformat_minor": 4
}
