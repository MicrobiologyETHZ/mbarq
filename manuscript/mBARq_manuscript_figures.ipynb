{
 "cells": [
  {
   "cell_type": "markdown",
   "metadata": {},
   "source": [
    "# Load data\n",
    "\n",
    "- Setting up the notebook\n",
    "- Loading the config file\n",
    "- Setting up significance thresholds"
   ]
  },
  {
   "cell_type": "code",
   "execution_count": null,
   "metadata": {
    "ExecuteTime": {
     "end_time": "2023-06-27T13:06:58.879022Z",
     "start_time": "2023-06-27T13:06:38.817538Z"
    },
    "code_folding": []
   },
   "outputs": [],
   "source": [
    "# %load load_manuscript_data.py\n",
    "import pandas as pd\n",
    "import numpy as np\n",
    "import matplotlib.pyplot as plt\n",
    "import os\n",
    "from pathlib import Path\n",
    "import seaborn as sns\n",
    "import sys\n",
    "import plotly.express as px\n",
    "import plotly.io as pio\n",
    "import yaml\n",
    "\n",
    "from datetime import date\n",
    "\n",
    "sns.set_context(\"notebook\", font_scale=1.4)\n",
    "pd.set_option(\"display.max_columns\", 100)\n",
    "pd.set_option(\"display.max_rows\", 100)\n",
    "plt.rcParams[\"figure.figsize\"] = (16, 12)\n",
    "plt.rcParams['savefig.dpi'] = 200\n",
    "plt.rcParams['figure.autolayout'] = False\n",
    "plt.rcParams['axes.labelsize'] = 18\n",
    "plt.rcParams['axes.titlesize'] = 20\n",
    "plt.rcParams['font.size'] = 16\n",
    "plt.rcParams['lines.linewidth'] = 2.0\n",
    "plt.rcParams['lines.markersize'] = 8\n",
    "plt.rcParams['legend.fontsize'] = 14\n",
    "pd.set_option('display.float_format', lambda x: '{:,.4f}'.format(x))\n",
    "\n",
    "\n",
    " \n",
    "config_file = \"manuscript_config.yaml\"\n",
    "with open(config_file) as file:\n",
    "    configs = yaml.load(file, Loader=yaml.FullLoader)\n",
    "    \n",
    "\n",
    "today = date.today().strftime('%d-%m-%y')\n",
    "\n",
    "\n",
    "root = Path(configs['root'])\n",
    "figures_dir = Path(configs['figures_dir'])\n",
    "\n",
    "alphabetClrs = px.colors.qualitative.Alphabet\n",
    "# clrs = [\"#f7ba65\", \"#bf4713\", \"#9c002f\", \"#d73d00\", \"#008080\", \"#004c4c\"]\n",
    "# colors = {\n",
    "#         'light_yellow': clrs[0],\n",
    "#         'darko': clrs[1],\n",
    "#         'maroon':clrs[2],\n",
    "#         'brighto': clrs[3],\n",
    "#         'teal':clrs[4],\n",
    "#         'darkteal':clrs[5]\n",
    "#        }\n",
    "\n",
    "\n",
    "sushi_colors = {'red': '#C0504D',\n",
    "             'orange': '#F79646',\n",
    "             'medSea': '#4BACC6', \n",
    "             'black': '#000000',\n",
    "             'dgreen': '#00B04E',\n",
    "             'lgreen': '#92D050',\n",
    "             'dblue': '#366092',\n",
    "             'lblue': '#95B3D7',\n",
    "             'grey': alphabetClrs[8]}\n",
    "\n",
    "\n",
    "lfc_threshold = 0.6\n",
    "fdr_threshold = 0.05\n"
   ]
  },
  {
   "cell_type": "markdown",
   "metadata": {},
   "source": [
    "# Nguyen et al 2020"
   ]
  },
  {
   "cell_type": "markdown",
   "metadata": {},
   "source": [
    "## Load the data"
   ]
  },
  {
   "cell_type": "code",
   "execution_count": null,
   "metadata": {
    "ExecuteTime": {
     "end_time": "2023-06-27T13:07:05.235996Z",
     "start_time": "2023-06-27T13:07:05.229869Z"
    }
   },
   "outputs": [],
   "source": [
    "nguyen_config = configs['nguyen']\n",
    "map_file = root/nguyen_config['map_file']\n",
    "counts_file = root/nguyen_config['counts_file']\n",
    "results_file = root/nguyen_config['results_file']\n",
    "sample_data_file = root/nguyen_config['sample_data_file']\n",
    "published_results_file = root/nguyen_config['published_results_file']\n",
    "published_phenotypes_file = root/nguyen_config['published_phenotypes_file']"
   ]
  },
  {
   "cell_type": "markdown",
   "metadata": {},
   "source": [
    "## Process results file"
   ]
  },
  {
   "cell_type": "code",
   "execution_count": null,
   "metadata": {
    "ExecuteTime": {
     "end_time": "2023-06-27T13:07:15.447210Z",
     "start_time": "2023-06-27T13:07:15.374327Z"
    }
   },
   "outputs": [],
   "source": [
    "# Get gene annotations from the map file\n",
    "\n",
    "\n",
    "annotations = (pd.read_csv(map_file)[['Name', 'locus_tag']]\n",
    "               .drop_duplicates())\n",
    "\n",
    "\n",
    "results = pd.read_csv(results_file).merge(annotations, on='Name', how='inner')\n",
    "# What is a hit?\n",
    "results['mbarq_hit'] = (((results['neg_selection_fdr'] < fdr_threshold) | (results['pos_selection_fdr'] < fdr_threshold)) \n",
    "                        & (abs(results.LFC) > lfc_threshold))\n"
   ]
  },
  {
   "cell_type": "markdown",
   "metadata": {},
   "source": [
    "## Process published results"
   ]
  },
  {
   "cell_type": "code",
   "execution_count": null,
   "metadata": {
    "ExecuteTime": {
     "end_time": "2023-06-27T13:07:26.809041Z",
     "start_time": "2023-06-27T13:07:26.727178Z"
    }
   },
   "outputs": [],
   "source": [
    "published_results = pd.read_csv(published_results_file, skiprows=1)\n",
    "published_results = published_results[~published_results.gene.str.contains('control_')]\n",
    "published_ci = (published_results.melt(id_vars=['locus', 'gene'], \n",
    "                                       value_vars=[c for c in published_results.columns if 'median_CI' in c],\n",
    "                                       value_name='median_CI', \n",
    "                                       var_name=['contrast'])\n",
    "                                 .rename({'locus': 'locus_tag'}, axis=1))\n",
    "published_ci['contrast'] = published_ci.contrast.str.split(\"_\", expand=True)[0]\n",
    "published_ci['log2_median_CI'] = np.log2(published_ci.median_CI)\n",
    "published_hits = (published_results.melt(id_vars=['locus'], var_name=['contrast'],\n",
    "                                         value_vars=[c for c in published_results.columns if 'adj_p_value_CI'in c],\n",
    "                                         value_name='adj_pvalue')\n",
    "                                   .rename({'locus': 'locus_tag'}, axis=1))\n",
    "published_hits['contrast'] = published_hits.contrast.str.split(\"_\", expand=True)[0]\n",
    "\n",
    "published_df = published_ci.merge(published_hits, on=['locus_tag', 'contrast'])\n",
    "published_df['published_hit'] = ((published_df.adj_pvalue < fdr_threshold) & (abs(published_df.log2_median_CI) > lfc_threshold)).astype(int)*2\n"
   ]
  },
  {
   "cell_type": "markdown",
   "metadata": {},
   "source": [
    "## Merge mbarq and the results from the original study"
   ]
  },
  {
   "cell_type": "code",
   "execution_count": null,
   "metadata": {
    "ExecuteTime": {
     "end_time": "2023-06-27T13:07:45.422488Z",
     "start_time": "2023-06-27T13:07:45.386082Z"
    }
   },
   "outputs": [],
   "source": [
    "ci_labels = {'0': 'None', '1': 'mBARq only', '2': 'Original analysis only', '3': 'Both methods'}\n",
    "all_results = results.merge(published_df, on=['locus_tag', 'contrast'], how='outer')\n",
    "common_genes = all_results.dropna()\n",
    "all_results['published_hit'] = all_results['published_hit'].fillna(0).astype(int)\n",
    "all_results['mbarq_hit'] = all_results['mbarq_hit'].fillna(False)\n",
    "all_results['log2_median_CI'] = all_results['log2_median_CI'].fillna(0)\n",
    "all_results['LFC'] = all_results['LFC'].fillna(0)\n",
    "all_results['hit'] = (all_results['mbarq_hit'] + all_results['published_hit']).astype(str)\n",
    "all_results.hit.replace(ci_labels, inplace=True)"
   ]
  },
  {
   "cell_type": "markdown",
   "metadata": {},
   "source": [
    "## Compare CIs and LFCs"
   ]
  },
  {
   "cell_type": "code",
   "execution_count": null,
   "metadata": {
    "ExecuteTime": {
     "end_time": "2023-06-27T13:08:08.588139Z",
     "start_time": "2023-06-27T13:08:08.573056Z"
    }
   },
   "outputs": [],
   "source": [
    "def compare_CIs(df, contrast, font_size=24, y_label='log2_median_CI'):\n",
    "    \"\"\"\n",
    "    Look at correlation between published results and mBARq results for each contrast (i.e. day)\n",
    "    \n",
    "    \"\"\"\n",
    "    hit_label = 'Significant change in fitness'\n",
    "    to_plot = df[df.contrast == contrast]\n",
    "    to_plot = to_plot.rename({'hit': hit_label}, axis=1)\n",
    "    print(to_plot[hit_label].value_counts())\n",
    "    fig = px.scatter(to_plot, x='LFC', y=y_label, color=hit_label, \n",
    "                     height=800, width=1000,\n",
    "                     template = 'plotly_white', \n",
    "                     labels = {'log2_median_CI': 'CI (original analysis)', \n",
    "                               'LFC': 'LFC (mBARq analysis)'},\n",
    "                     color_discrete_map = {'None': sushi_colors['grey'], \n",
    "                                           'Both methods': sushi_colors['dgreen'], \n",
    "                                           'mBARq only': sushi_colors['dblue'], \n",
    "                                           'Original analysis only': sushi_colors['orange']},\n",
    "                #hover_data=['locus_tag', 'gene'],\n",
    "                category_orders = {'Significant change in fitness':['None', 'Both methods', 'Original analysis only',\n",
    "                                                               'mBARq only']},)\n",
    "\n",
    "    fig.update_traces(marker=dict(size=20, line=dict(width=1, color='DarkSlateGrey'), \n",
    "                                  opacity=0.9),\n",
    "                      selector=dict(mode='markers'))\n",
    "    fig.update_xaxes(showline=True, linewidth=2, linecolor='black',\n",
    "                         tickfont=dict(size=font_size-6, color='black'), \n",
    "                     titlefont=dict(size=font_size, color='black'))\n",
    "    fig.update_yaxes(showline=True, linewidth=2, linecolor='black',\n",
    "                        tickfont=dict(size=font_size-6, color='black'), \n",
    "                     titlefont=dict(size=font_size, color='black'))\n",
    "\n",
    "    fig.update_layout(legend=dict(font=dict(size=font_size-2)), \n",
    "                      legend_title=dict(font=dict(size=font_size)))\n",
    "    return fig"
   ]
  },
  {
   "cell_type": "code",
   "execution_count": null,
   "metadata": {
    "ExecuteTime": {
     "end_time": "2023-06-27T13:08:13.199917Z",
     "start_time": "2023-06-27T13:08:13.183228Z"
    }
   },
   "outputs": [],
   "source": [
    "new_genes = all_results[(all_results.LFC<-1*lfc_threshold)&(all_results.hit=='mBARq only') & (all_results.contrast.isin(['d1', 'd2']))].locus_tag.nunique()\n",
    "print(f'Number of new genes with fitness defect: {new_genes}')"
   ]
  },
  {
   "cell_type": "code",
   "execution_count": null,
   "metadata": {
    "ExecuteTime": {
     "end_time": "2023-06-27T13:08:34.202285Z",
     "start_time": "2023-06-27T13:08:34.193232Z"
    }
   },
   "outputs": [],
   "source": [
    "new_genes = all_results[(all_results.LFC>lfc_threshold)&(all_results.hit=='mBARq only') & (all_results.contrast.isin(['d1', 'd2']))].locus_tag.nunique()\n",
    "print(f'Number of new genes with increased fitness: {new_genes}')"
   ]
  },
  {
   "cell_type": "code",
   "execution_count": null,
   "metadata": {
    "ExecuteTime": {
     "end_time": "2023-06-27T13:09:03.021069Z",
     "start_time": "2023-06-27T13:08:53.569417Z"
    }
   },
   "outputs": [],
   "source": [
    "fig = compare_CIs(all_results, 'd1')\n",
    "fig"
   ]
  },
  {
   "cell_type": "code",
   "execution_count": null,
   "metadata": {
    "ExecuteTime": {
     "end_time": "2023-06-15T09:05:04.409705Z",
     "start_time": "2023-06-15T09:05:04.112728Z"
    }
   },
   "outputs": [],
   "source": [
    "#fig.write_image(figures_dir/f\"{today}_Figure2C.png\", format ='png', scale=2)"
   ]
  },
  {
   "cell_type": "code",
   "execution_count": null,
   "metadata": {
    "ExecuteTime": {
     "end_time": "2023-06-27T13:09:27.444597Z",
     "start_time": "2023-06-27T13:09:27.441690Z"
    }
   },
   "outputs": [],
   "source": [
    "#compare_CIs(all_results, 'd2')\n",
    "#compare_CIs(all_results, 'd3')\n",
    "#compare_CIs(all_results, 'd4')"
   ]
  },
  {
   "cell_type": "markdown",
   "metadata": {},
   "source": [
    "## Calculate CI/LFC correlations"
   ]
  },
  {
   "cell_type": "code",
   "execution_count": null,
   "metadata": {
    "ExecuteTime": {
     "end_time": "2023-06-27T13:10:22.622383Z",
     "start_time": "2023-06-27T13:10:22.495953Z"
    }
   },
   "outputs": [],
   "source": [
    "corr_df = common_genes.groupby('contrast')[['LFC', 'log2_median_CI']].corr().iloc[0::2,-1].reset_index()\n",
    "corr_df.columns = ['contrast', 'LFC', 'R']\n",
    "font_size=24\n",
    "fig = px.bar(corr_df, x=\"R\", y='contrast', color='contrast',\n",
    "      color_discrete_sequence = ['black']*4,\n",
    "             labels={\"contrast\":'', 'R': \"Pearson's <i>r</i>\"},\n",
    "      height=350, width=500, text_auto='.2f', template='plotly_white', orientation='h')\n",
    "fig.update_layout(showlegend=False)\n",
    "fig.update_xaxes(showline=True, linewidth=2, linecolor='black',\n",
    "                         tickfont=dict(size=font_size-6, color='black'), \n",
    "                 titlefont=dict(size=font_size, color='black'))\n",
    "fig.update_yaxes(showline=True, linewidth=2, linecolor='black',\n",
    "                        tickfont=dict(size=font_size-6, color='black'), \n",
    "                 titlefont=dict(size=font_size, color='black'))\n"
   ]
  },
  {
   "cell_type": "code",
   "execution_count": null,
   "metadata": {
    "ExecuteTime": {
     "end_time": "2023-06-15T11:25:47.232663Z",
     "start_time": "2023-06-15T11:25:47.127237Z"
    }
   },
   "outputs": [],
   "source": [
    "#fig.write_image(figures_dir/f\"{today}_Figure2C_inset.png\", format ='png', scale=2)"
   ]
  },
  {
   "cell_type": "markdown",
   "metadata": {},
   "source": [
    "## Calculate recall, precision, balanced accuracy "
   ]
  },
  {
   "cell_type": "code",
   "execution_count": null,
   "metadata": {
    "ExecuteTime": {
     "end_time": "2023-06-27T13:11:11.854959Z",
     "start_time": "2023-06-27T13:11:09.847212Z"
    }
   },
   "outputs": [],
   "source": [
    "from sklearn.metrics import recall_score, precision_score, balanced_accuracy_score\n",
    "\n",
    "phenotypes = pd.read_csv(published_phenotypes_file)\n",
    "phenotypes = phenotypes.rename({'locus': 'locus_tag', 'day': 'contrast'}, axis=1)\n",
    "phenotypes = phenotypes.merge(all_results, how='left', on=['locus_tag', 'contrast'])\n",
    "\n",
    "\n",
    "# Same definition of hit as before\n",
    "phenotypes['pheno_hit'] = ((phenotypes['adjusted p value (C.I.)'] < fdr_threshold) & (abs(np.log2(phenotypes['median'])) > lfc_threshold)).astype(int)\n",
    "phenotypes = phenotypes[['locus_tag', 'gene_x', 'contrast', 'pheno_hit', 'mbarq_hit', 'published_hit']].dropna()\n",
    "phenotypes['mbarq_hit'] = phenotypes.mbarq_hit.astype(int)\n",
    "phenotypes['published_hit'] = (phenotypes.published_hit/2).astype(int)\n",
    "\n",
    "\n",
    "metrics = {'mBARq Analysis': (precision_score(phenotypes.pheno_hit, phenotypes.mbarq_hit), \n",
    "                     recall_score(phenotypes.pheno_hit, phenotypes.mbarq_hit), \n",
    "                     balanced_accuracy_score(phenotypes.pheno_hit, phenotypes.mbarq_hit)), \n",
    "          'Original Analysis': (precision_score(phenotypes.pheno_hit, phenotypes.published_hit), \n",
    "                       recall_score(phenotypes.pheno_hit, phenotypes.published_hit), \n",
    "                       balanced_accuracy_score(phenotypes.pheno_hit, phenotypes.published_hit) )}\n",
    "\n",
    "metric_df = (pd.DataFrame(metrics, index=['Precision', 'Recall', 'Balanced Accuracy'])\n",
    "              .T\n",
    "            .reset_index()\n",
    "            .rename({'index':'Method'}, axis=1)\n",
    "              .melt(id_vars=['Method'], var_name='Metric', value_name='Score'))"
   ]
  },
  {
   "cell_type": "code",
   "execution_count": null,
   "metadata": {
    "ExecuteTime": {
     "end_time": "2023-06-27T13:11:18.595051Z",
     "start_time": "2023-06-27T13:11:18.522237Z"
    }
   },
   "outputs": [],
   "source": [
    "font_size=24\n",
    "fig = px.bar(metric_df, x='Metric', y='Score', \n",
    "       color='Method', barmode='group', text_auto='.2f', \n",
    "       height=500, width=600, \n",
    "      template='plotly_white', \n",
    "      color_discrete_map = {'mBARq Analysis':'black' , 'Original Analysis': sushi_colors['grey']})\n",
    "fig.update_layout(legend=dict(font=dict(size=font_size-2)), legend_title=dict(font=dict(size=font_size)))\n",
    "fig.update_xaxes(showline=True, linewidth=2, linecolor='black',\n",
    "                         tickfont=dict(size=font_size-6, color='black'), title=\"\")\n",
    "fig.update_yaxes(showline=True, linewidth=2, linecolor='black',\n",
    "                        tickfont=dict(size=font_size-8, color='black'), \n",
    "                 titlefont=dict(size=font_size, color='black'))\n"
   ]
  },
  {
   "cell_type": "code",
   "execution_count": null,
   "metadata": {
    "ExecuteTime": {
     "end_time": "2023-06-15T11:25:52.611490Z",
     "start_time": "2023-06-15T11:25:52.505268Z"
    }
   },
   "outputs": [],
   "source": [
    "#fig.write_image(figures_dir/f\"{today}_Figure2D.png\", format ='png', scale=2)"
   ]
  },
  {
   "cell_type": "markdown",
   "metadata": {},
   "source": [
    "# Wetmore et all 2015"
   ]
  },
  {
   "cell_type": "markdown",
   "metadata": {
    "ExecuteTime": {
     "end_time": "2023-06-27T13:12:49.975925Z",
     "start_time": "2023-06-27T13:12:49.970132Z"
    }
   },
   "source": [
    "## Load the data"
   ]
  },
  {
   "cell_type": "code",
   "execution_count": null,
   "metadata": {
    "ExecuteTime": {
     "end_time": "2023-06-27T13:13:13.471355Z",
     "start_time": "2023-06-27T13:13:13.463914Z"
    }
   },
   "outputs": [],
   "source": [
    "wetmore_config = configs['wetmore']\n",
    "wetmore_counts_file = root/wetmore_config['counts_file']\n",
    "wetmore_results_file = root/wetmore_config['results_file']\n",
    "wetmore_sample_data_file = root/wetmore_config['sample_data_file']\n",
    "wetmore_published_results_file = root/wetmore_config['published_results_file']\n",
    "wetmore_published_counts_file = root/wetmore_config['published_counts_file']\n",
    "wetmore_map_file = root/wetmore_config['map_file']\n",
    "wetmore_published_stats_file = root/wetmore_config['published_stats_file']\n",
    "\n",
    "\n",
    "def get_bigger_tstat(x):\n",
    "    a = [abs(i) for i in x.values]\n",
    "    return x.values[a.index(max(a))]\n",
    "\n",
    "contrast_map = {'D-Maltose_monohydrate': 'D-Maltose',\n",
    "                'a-Ketoglutaric_acid_disodium_salt_hydrate': 'a-Ketoglutaric acid',\n",
    "                'a-Ketoglutaric': 'a-Ketoglutaric acid',\n",
    "                'Potassium_acetate': 'Acetate',\n",
    "                'acetate': 'Acetate',\n",
    "                'CAS_amino_acids': 'CAS amino acids',\n",
    "                'CAS': 'CAS amino acids',\n",
    "                'Tween_20': 'Tween',\n",
    "                'Sodium_L-Lactate': 'L-Lactate',\n",
    "                'Sodium_D,L-Lactate': 'D,L-Lactate',\n",
    "                'Sodium_pyruvate': 'Pyruvate',\n",
    "                'pyruvate': 'Pyruvate',\n",
    "                'Putrescine_Dihydrochloride': 'Putrescine',\n",
    "                'N-Acetyl-D-Glucosamine': 'NAG',\n",
    "                'L-Glutamic_acid_monopotassium_salt_monohydrate': 'L-Glutamic acid',\n",
    "                'L-Glutamic': 'L-Glutamic acid',\n",
    "                'Sodium_Fumarate_dibasic': 'Fumarate',\n",
    "                'L-Malic_acid_disodium_salt_monohydrate': 'L-Malic acid',\n",
    "                'Sodium_Fumarate_dibasic': 'Fumarate', \n",
    "                'Sodium_succinate_dibasic_hexahydrate': 'Succinate'\n",
    "               }\n",
    "\n",
    "carbon_sources =['D-Glucose', 'D-Maltose', 'a-Ketoglutaric acid', 'Acetate',\n",
    "       'D-Cellobiose', 'L-Lactate', 'D,L-Lactate', 'Pyruvate',\n",
    "       'D-Mannitol', 'Tween', 'L-Glutamic acid', 'L-Glutamine', 'Gly-Glu',\n",
    "       'Gelatin', 'CAS amino acids', 'Putrescine', 'NAG', 'Adenosine',\n",
    "       'Uridine', 'Thymidine', 'Inosine', 'Cytidine', 'D-Mannose',\n",
    "       'Sucrose', 'L-Serine']"
   ]
  },
  {
   "cell_type": "markdown",
   "metadata": {},
   "source": [
    "## Clean published results"
   ]
  },
  {
   "cell_type": "code",
   "execution_count": null,
   "metadata": {
    "ExecuteTime": {
     "end_time": "2023-06-27T13:17:00.950380Z",
     "start_time": "2023-06-27T13:15:49.903842Z"
    }
   },
   "outputs": [],
   "source": [
    "# Slow\n",
    "wetmore_sample_data = pd.read_csv(wetmore_sample_data_file)\n",
    "\n",
    "wetmore_published_counts = (pd.read_table(wetmore_published_counts_file))\n",
    "columns_to_keep = ['barcode','rcbarcode']+ [c for c in wetmore_published_counts if 'set1' in c]\n",
    "wetmore_published_counts = (wetmore_published_counts[columns_to_keep]\n",
    "                            .melt(id_vars=['barcode', 'rcbarcode'], \n",
    "                                  value_name='feba_counts', var_name='sample_id'))\n",
    "wetmore_published_counts = wetmore_published_counts[wetmore_published_counts.sample_id.str.contains('set1')]\n",
    "wetmore_published_counts['sample_id'] = (wetmore_published_counts['sample_id']\n",
    "                                         .str.split('.', expand=True)[1])"
   ]
  },
  {
   "cell_type": "code",
   "execution_count": null,
   "metadata": {
    "ExecuteTime": {
     "end_time": "2023-06-27T13:17:35.120455Z",
     "start_time": "2023-06-27T13:17:27.638447Z"
    }
   },
   "outputs": [],
   "source": [
    "wetmore_published_results = (pd.read_table(wetmore_published_results_file)\n",
    "                             .drop(['locusId', 'desc', 'comb'], axis=1)\n",
    "                             .melt(id_vars=['sysName'], var_name='contrast', \n",
    "                                   value_name='LFC'))\n",
    "\n",
    "wetmore_published_results['set'] = wetmore_published_results.contrast.str.split(expand=True)[0]\n",
    "wetmore_published_results['contrast'] = wetmore_published_results.contrast.str.split(expand=True)[1]\n",
    "\n",
    "wetmore_published_stats = pd.read_table(wetmore_published_stats_file).drop(['locusId', 'desc'], axis=1)\n",
    "wetmore_published_stats = wetmore_published_stats.melt(id_vars=['sysName'],  \n",
    "                                         var_name='contrast', \n",
    "                                         value_name='tstat')\n",
    "wetmore_published_stats['set'] = wetmore_published_stats.contrast.str.split(expand=True)[0]\n",
    "wetmore_published_stats['contrast'] = wetmore_published_stats.contrast.str.split(expand=True)[1]\n",
    "\n",
    "wetmore_published = wetmore_published_results.merge(wetmore_published_stats, on=['sysName', 'contrast', 'set'])\n",
    "wetmore_published = wetmore_published[wetmore_published.set.str.contains('set1')]\n",
    "wetmore_published = wetmore_published.rename({'sysName':'Name'}, axis=1)\n",
    "wetmore_published = (wetmore_published.groupby(['contrast', 'Name']).agg({'LFC': ['median'], \n",
    "                                                               'tstat':[get_bigger_tstat]})\n",
    "                                       .reset_index())\n",
    "wetmore_published.columns = ['contrast', 'Name', 'published_LFC', 'tstat']\n",
    "wetmore_published['contrast'] = wetmore_published['contrast'].replace(contrast_map)\n"
   ]
  },
  {
   "cell_type": "markdown",
   "metadata": {},
   "source": [
    "## Compare counts and LFC to published data"
   ]
  },
  {
   "cell_type": "code",
   "execution_count": null,
   "metadata": {
    "ExecuteTime": {
     "end_time": "2023-06-27T13:18:47.173249Z",
     "start_time": "2023-06-27T13:18:05.901941Z"
    }
   },
   "outputs": [],
   "source": [
    "wetmore_counts = pd.read_csv(wetmore_counts_file)\n",
    "wetmore_counts = wetmore_counts[~wetmore_counts.old_locus_tag.isna()]\n",
    "wetmore_counts = wetmore_counts.rename({'barcode':'rcbarcode'}, axis=1)\n",
    "wetmore_counts = (wetmore_counts.melt(id_vars=['rcbarcode', 'old_locus_tag'], \n",
    "                                      var_name='sample_id', value_name='mbarq_counts'))\n",
    "wetmore_all_counts = wetmore_counts.merge(wetmore_published_counts, \n",
    "                                          on=['rcbarcode', 'sample_id'], how='inner')\n",
    "wetmore_all_counts['log_feba_counts'] = np.log2(wetmore_all_counts['feba_counts'] + 1)\n",
    "wetmore_all_counts['log_mbarq_counts'] = np.log2(wetmore_all_counts['mbarq_counts'] + 1)\n",
    "wetmore_count_corr = (wetmore_all_counts\n",
    "                      .groupby('sample_id')[['log_mbarq_counts', 'log_feba_counts']]\n",
    "                      .corr().iloc[0::2,-1]\n",
    "                      .reset_index())\n",
    "wetmore_count_corr.columns = ['contrast', 'comparison', 'R']\n",
    "wetmore_count_corr['R2'] = round(wetmore_count_corr['R']**2, 3)"
   ]
  },
  {
   "cell_type": "code",
   "execution_count": null,
   "metadata": {
    "ExecuteTime": {
     "end_time": "2023-06-27T13:19:05.761470Z",
     "start_time": "2023-06-27T13:19:04.962565Z"
    }
   },
   "outputs": [],
   "source": [
    "wetmore_results = pd.read_csv(wetmore_results_file)\n",
    "wetmore_results = wetmore_results[~wetmore_results.Name.str.contains(\":\")]\n",
    "wetmore_results['contrast'] = wetmore_results['contrast'].replace(contrast_map)\n",
    "wetmore_results = wetmore_results[wetmore_results.contrast.isin(carbon_sources)]\n",
    "#wetmore_results.to_csv(root/\"Set1_rra_results_with_replicates.csv\")\n",
    "wetmore_all_results = wetmore_results.merge(wetmore_published, on=['Name', 'contrast'], how='inner')\n",
    "\n",
    "ci_labels = {'0': 'None', '1': 'mBARq only', '2': 'Original analysis only', '3': 'Both methods'}\n",
    "\n",
    "wetmore_all_results['mbarq_hits'] = ((abs(wetmore_all_results.LFC) > lfc_threshold) & ((wetmore_all_results.neg_selection_fdr < fdr_threshold)| (wetmore_all_results.pos_selection_fdr < fdr_threshold)))\n",
    "wetmore_all_results['feba_hits'] = (abs(wetmore_all_results.tstat) > 4).astype(int)*2\n",
    "wetmore_all_results['hit'] = (wetmore_all_results['mbarq_hits'].astype(int) + wetmore_all_results['feba_hits']).astype(str)\n",
    "wetmore_all_results.hit.replace(ci_labels, inplace=True)"
   ]
  },
  {
   "cell_type": "code",
   "execution_count": null,
   "metadata": {
    "ExecuteTime": {
     "end_time": "2023-06-27T13:19:13.750543Z",
     "start_time": "2023-06-27T13:19:13.453757Z"
    }
   },
   "outputs": [],
   "source": [
    "fig = compare_CIs(wetmore_all_results, 'Acetate', y_label='published_LFC')\n",
    "fig.update_yaxes(title='LFC (original analysis)', titlefont=dict(size=24.1, color='black'))\n",
    "fig.update_xaxes( titlefont=dict(size=24, color='black'))"
   ]
  },
  {
   "cell_type": "code",
   "execution_count": null,
   "metadata": {
    "ExecuteTime": {
     "end_time": "2023-06-14T09:38:22.706075Z",
     "start_time": "2023-06-14T09:38:17.066751Z"
    }
   },
   "outputs": [],
   "source": [
    "#fig.write_image(figures_dir/f\"{today}_Figure3B.png\", format ='png', scale=2)"
   ]
  },
  {
   "cell_type": "code",
   "execution_count": null,
   "metadata": {
    "ExecuteTime": {
     "end_time": "2023-06-27T13:19:44.155610Z",
     "start_time": "2023-06-27T13:19:43.915255Z"
    }
   },
   "outputs": [],
   "source": [
    "wetmore_corr = (wetmore_all_results.groupby('contrast')[['LFC', 'published_LFC']]\n",
    "                .corr()\n",
    "                .iloc[0::2,-1]\n",
    "                .reset_index())\n",
    "wetmore_corr.columns = ['contrast', 'comparison', 'R']\n",
    "wetmore_corr = pd.concat([wetmore_corr, wetmore_count_corr])\n",
    "wetmore_corr.replace({'log_mbarq_counts': 'Counts'}, inplace=True)\n",
    "\n",
    "fig = px.box(wetmore_corr, x='comparison', y='R', width=400, height=400, color='comparison',\n",
    "      color_discrete_map = {'LFC': 'black' ,'Counts': 'black'\n",
    "                           },\n",
    "             labels={'comparison': ''},\n",
    "        category_orders = {'comparison': ['Counts', 'LFC']},\n",
    "      template='plotly_white', hover_data=['contrast'])\n",
    "\n",
    "fig.update_xaxes(showline=True, linewidth=2, linecolor='black',\n",
    "                         tickfont=dict(size=18, color='black'), titlefont=dict(size=24, color='black'))\n",
    "fig.update_yaxes(showline=True, linewidth=2, linecolor='black', range=[0, 1.1],\n",
    "                        tickfont=dict(size=18, color='black'), \n",
    "                 titlefont=dict(size=24, color='black'))\n",
    "\n",
    "\n",
    "fig.update_layout(showlegend=False, font=dict(size=20))"
   ]
  },
  {
   "cell_type": "code",
   "execution_count": null,
   "metadata": {
    "ExecuteTime": {
     "end_time": "2023-06-14T09:42:47.378240Z",
     "start_time": "2023-06-14T09:42:47.279825Z"
    }
   },
   "outputs": [],
   "source": [
    "#fig.write_image(figures_dir/f\"{today}_Figure3B_inset.png\", format ='png', scale=2)"
   ]
  },
  {
   "cell_type": "markdown",
   "metadata": {},
   "source": [
    "## Look at how many hits are generated by each analysis"
   ]
  },
  {
   "cell_type": "code",
   "execution_count": null,
   "metadata": {
    "ExecuteTime": {
     "end_time": "2023-06-27T13:20:18.640650Z",
     "start_time": "2023-06-27T13:20:18.548174Z"
    }
   },
   "outputs": [],
   "source": [
    "wetmore_hits = (wetmore_all_results[wetmore_all_results.hit != 'None']\n",
    "                .groupby('contrast').hit.value_counts(normalize=True))\n",
    "wetmore_hits.name = 'hit_props'\n",
    "wetmore_hits = wetmore_hits.reset_index()\n",
    "legend_title = 'Significant change in fitness detected by:'\n",
    "wetmore_hits = wetmore_hits.rename({'hit':legend_title}, axis=1)\n",
    "fig = px.bar(wetmore_hits, x='contrast', y='hit_props', color=legend_title, \n",
    "             labels = {'hit_props': 'Proportion of hits', 'contrast':''},\n",
    "       color_discrete_map = {'Both methods': sushi_colors['dgreen'] ,'Original analysis only': sushi_colors['orange'], \n",
    "                            'mBARq only': sushi_colors['dblue']}, \n",
    "      template='plotly_white', width = 1200, height=800)\n",
    "fig.update_xaxes(showline=True, linewidth=2, linecolor='black',\n",
    "                         tickfont=dict(size=18, color='black'), titlefont=dict(size=24, color='black'))\n",
    "fig.update_yaxes(showline=True, linewidth=2, linecolor='black', range=[0, 1.1],\n",
    "                        tickfont=dict(size=18, color='black'), \n",
    "                 titlefont=dict(size=24, color='black'))\n",
    "\n",
    "fig.update_layout(legend=dict(font=dict(size=18)), legend_title=dict(font=dict(size=20)))\n",
    "fig "
   ]
  },
  {
   "cell_type": "code",
   "execution_count": null,
   "metadata": {
    "ExecuteTime": {
     "end_time": "2023-06-27T13:20:34.609750Z",
     "start_time": "2023-06-27T13:20:34.585509Z"
    }
   },
   "outputs": [],
   "source": [
    "wetmore_hits_nums = (wetmore_all_results[wetmore_all_results.hit != 'None']\n",
    "                .groupby('contrast').hit.value_counts())\n",
    "wetmore_hits_nums.name = 'hit_nums'\n",
    "wetmore_hits_nums = wetmore_hits_nums.reset_index()\n",
    "round(wetmore_hits_nums.groupby('hit').hit_nums.mean(), 0)"
   ]
  },
  {
   "cell_type": "code",
   "execution_count": null,
   "metadata": {
    "ExecuteTime": {
     "end_time": "2023-06-27T13:21:01.354825Z",
     "start_time": "2023-06-27T13:21:01.346617Z"
    }
   },
   "outputs": [],
   "source": [
    "round(wetmore_hits.groupby('Significant change in fitness detected by:').hit_props.mean(), 2)"
   ]
  },
  {
   "cell_type": "code",
   "execution_count": null,
   "metadata": {
    "ExecuteTime": {
     "end_time": "2023-06-14T12:27:43.364448Z",
     "start_time": "2023-06-14T12:27:43.171187Z"
    }
   },
   "outputs": [],
   "source": [
    "#fig.write_image(figures_dir/f\"{today}_Figure3C.png\", format ='png', scale=2)"
   ]
  },
  {
   "cell_type": "markdown",
   "metadata": {},
   "source": [
    "# Jasinska 2020"
   ]
  },
  {
   "cell_type": "markdown",
   "metadata": {},
   "source": [
    "## Load the data"
   ]
  },
  {
   "cell_type": "code",
   "execution_count": null,
   "metadata": {
    "ExecuteTime": {
     "end_time": "2023-06-27T13:22:00.291377Z",
     "start_time": "2023-06-27T13:22:00.249240Z"
    }
   },
   "outputs": [],
   "source": [
    "jasinska_config = configs['jasinska']\n",
    "jasinska_sample_data_file = root/jasinska_config['sample_data_file']\n",
    "jasinska_published_freq_file = root/jasinska_config['published_frequency_file']\n",
    "jasinska_sample_data = pd.read_csv(jasinska_sample_data_file)\n",
    "jasinska_counts_file = root/jasinska_config['no_drugs_file']\n",
    "jasinska_sample_data = jasinska_sample_data[[\"Run\", \"Drug_condition_and_replicate\",  \"Sample Name\"]]\n",
    "drugs_and_reps = jasinska_sample_data[\"Drug_condition_and_replicate\"].str.split(\" r\", expand=True)\n",
    "drugs_and_reps.columns = ['drug_condition', 'replicate']\n",
    "drugs_and_reps['replicate'] = drugs_and_reps['replicate'].replace({'1': 'Replicate 1', \n",
    "                                                                  '2': 'Replicate 2', \n",
    "                                                                  '3': 'Replicate 3'})\n",
    "names = jasinska_sample_data['Sample Name'].str.split('_', expand=True)\n",
    "names.columns = ['exp', 'well', 'passage', 'subsample']\n",
    "jasinska_sample_data = pd.concat([jasinska_sample_data, drugs_and_reps, names], axis=1)\n",
    "jasinska_sample_data = jasinska_sample_data.drop(['Drug_condition_and_replicate', 'Sample Name'], axis=1)\n",
    "jasinska_sample_data['passage'] = jasinska_sample_data['passage'].str.split(\"-\", expand=True)[1].astype(int)\n",
    "jasinska_sample_data['generation'] = jasinska_sample_data['passage']*6 # from the paper\n",
    "\n",
    "no_drug_sample_data = jasinska_sample_data[jasinska_sample_data.drug_condition == 'No drug']"
   ]
  },
  {
   "cell_type": "code",
   "execution_count": null,
   "metadata": {
    "ExecuteTime": {
     "end_time": "2023-06-27T13:22:01.333676Z",
     "start_time": "2023-06-27T13:22:01.317970Z"
    }
   },
   "outputs": [],
   "source": [
    "jasinska_published_freq = pd.read_csv(jasinska_published_freq_file)\n",
    "jasinska_published_freq['replicate'] = jasinska_published_freq['replicate'].replace({'Rep1': 'Replicate 1', \n",
    "                                                                  'Rep2': 'Replicate 2', \n",
    "                                                                  'Rep3': 'Replicate 3'})\n",
    "jasinska_pub_barcodes = jasinska_published_freq.barcode.unique()\n",
    "jasinska_color_map = jasinska_published_freq[['barcode', 'color']].set_index('barcode').to_dict()['color']"
   ]
  },
  {
   "cell_type": "code",
   "execution_count": null,
   "metadata": {
    "ExecuteTime": {
     "end_time": "2023-06-27T13:22:14.028837Z",
     "start_time": "2023-06-27T13:22:08.527197Z"
    }
   },
   "outputs": [],
   "source": [
    "jasinska_counts = None\n",
    "for chunk in pd.read_csv(jasinska_counts_file, chunksize=1000000):\n",
    "    chunk_result = chunk.set_index(\"barcode\")\n",
    "    chunk_result = chunk_result[chunk_result.sum(axis=1) > 10]\n",
    "    if jasinska_counts is None:\n",
    "        jasinska_counts = chunk_result\n",
    "    else:\n",
    "        jasinska_counts = jasinska_counts.add(chunk_result, fill_value=0)"
   ]
  },
  {
   "cell_type": "code",
   "execution_count": null,
   "metadata": {
    "ExecuteTime": {
     "end_time": "2023-06-27T13:22:18.895339Z",
     "start_time": "2023-06-27T13:22:18.098974Z"
    }
   },
   "outputs": [],
   "source": [
    "jasinska_counts = jasinska_counts/jasinska_counts.sum()\n",
    "jasinska_counts = jasinska_counts.reset_index()"
   ]
  },
  {
   "cell_type": "markdown",
   "metadata": {},
   "source": [
    "## Graph frequencies overtime"
   ]
  },
  {
   "cell_type": "code",
   "execution_count": null,
   "metadata": {
    "ExecuteTime": {
     "end_time": "2023-06-27T13:22:25.751470Z",
     "start_time": "2023-06-27T13:22:25.701788Z"
    }
   },
   "outputs": [],
   "source": [
    "hi_freq = jasinska_counts[jasinska_counts.barcode.isin(jasinska_pub_barcodes)]\n",
    "hi_freq  = hi_freq.melt(id_vars='barcode', value_name = 'Frequency', var_name = 'Run')\n",
    "hi_freq_full = no_drug_sample_data.merge(hi_freq, on='Run', how='left')\n",
    "freq_overtime = hi_freq_full.groupby(['barcode', 'replicate', 'generation']).Frequency.mean().reset_index()"
   ]
  },
  {
   "cell_type": "code",
   "execution_count": null,
   "metadata": {
    "ExecuteTime": {
     "end_time": "2023-06-27T13:22:29.922398Z",
     "start_time": "2023-06-27T13:22:29.912060Z"
    }
   },
   "outputs": [],
   "source": [
    "def graph_frequency_over_time(df, time_col, freq_col, color_dict, barcode_col='barcode', \n",
    "                              filter_by_col='', filter_by_value='' ):\n",
    "    if filter_by_col:\n",
    "        df = df[df[filter_by_col] == filter_by_value]\n",
    "    barcode_order = list(df.groupby([barcode_col])[freq_col].sum().sort_values(ascending=False).index)\n",
    "    df = (df[[barcode_col, freq_col, time_col]].drop_duplicates()\n",
    "          .pivot(index = time_col, columns = barcode_col))\n",
    "    df.columns = [c[1] for c in list(df.columns)]\n",
    "    df = df.reset_index()\n",
    "    df = df[[time_col] + barcode_order]\n",
    "    y = [df[c] for c in df.columns[1:]]\n",
    "    color_map = [color_dict[c] for c in df.columns[1:]]\n",
    "    sns.set_style('ticks')\n",
    "    fig = plt.figure(figsize=(5,4))\n",
    "    #create area chart\n",
    "    plt.stackplot(df[time_col], y, colors=color_map)\n",
    "    #add axis labels\n",
    "    plt.xlabel('Time (generations)')\n",
    "    plt.ylabel('Lineage frequency')\n",
    "    return fig"
   ]
  },
  {
   "cell_type": "code",
   "execution_count": null,
   "metadata": {
    "ExecuteTime": {
     "end_time": "2023-06-27T13:22:34.186860Z",
     "start_time": "2023-06-27T13:22:33.691850Z"
    }
   },
   "outputs": [],
   "source": [
    "fig = graph_frequency_over_time(freq_overtime, 'generation', 'Frequency', jasinska_color_map, \n",
    "                                'barcode', 'replicate', 'Replicate 1')\n",
    "#fig.savefig(figures_dir/f\"{today}_Figure4A_i.png\", dpi=150, bbox_inches = \"tight\")"
   ]
  },
  {
   "cell_type": "code",
   "execution_count": null,
   "metadata": {
    "ExecuteTime": {
     "end_time": "2023-06-27T13:22:38.804298Z",
     "start_time": "2023-06-27T13:22:38.548484Z"
    }
   },
   "outputs": [],
   "source": [
    "fig = graph_frequency_over_time(freq_overtime, 'generation', 'Frequency', jasinska_color_map, \n",
    "                                'barcode', 'replicate', 'Replicate 2')\n",
    "#fig.savefig(figures_dir/f\"{today}_Figure4A_ii.png\", dpi=150, bbox_inches = \"tight\")"
   ]
  },
  {
   "cell_type": "code",
   "execution_count": null,
   "metadata": {
    "ExecuteTime": {
     "end_time": "2023-06-27T13:22:41.787107Z",
     "start_time": "2023-06-27T13:22:41.499441Z"
    }
   },
   "outputs": [],
   "source": [
    "fig = graph_frequency_over_time(freq_overtime, 'generation', 'Frequency', jasinska_color_map, \n",
    "                                'barcode', 'replicate', 'Replicate 3')\n",
    "\n",
    "#fig.savefig(figures_dir/f\"{today}_Figure4A_iii.png\", dpi=150, bbox_inches = \"tight\")"
   ]
  },
  {
   "cell_type": "markdown",
   "metadata": {},
   "source": [
    "## Graph final frequencies"
   ]
  },
  {
   "cell_type": "code",
   "execution_count": null,
   "metadata": {
    "ExecuteTime": {
     "end_time": "2023-06-27T13:22:46.760463Z",
     "start_time": "2023-06-27T13:22:46.723357Z"
    }
   },
   "outputs": [],
   "source": [
    "mbarq_result_mean = hi_freq_full.groupby(['barcode', 'replicate']).Frequency.mean().reset_index()\n",
    "mbarq_result_mean.columns = ['barcode', 'replicate', 'mbarq_av_freq']\n",
    "mbarq_result_final = (hi_freq_full[hi_freq_full.generation == 420]\n",
    "                      .groupby(['barcode', 'replicate'])\n",
    "                      .Frequency.mean()\n",
    "                      .reset_index())\n",
    "mbarq_result_final.columns = ['barcode', 'replicate', 'mbarq_final_freq']\n",
    "\n",
    "mbarq_result = (mbarq_result_mean.merge(mbarq_result_final, on=['barcode', 'replicate'])\n",
    "                .merge(jasinska_published_freq, on=['barcode', 'replicate']))"
   ]
  },
  {
   "cell_type": "code",
   "execution_count": null,
   "metadata": {
    "ExecuteTime": {
     "end_time": "2023-06-27T13:23:23.160121Z",
     "start_time": "2023-06-27T13:23:22.725711Z"
    }
   },
   "outputs": [],
   "source": [
    "final_freq_df = (mbarq_result[['barcode', 'replicate', 'mbarq_final_freq', 'final_freq']]\n",
    "                 .melt(id_vars=['barcode', 'replicate'], value_name = 'Frequency', var_name ='method'))\n",
    "final_freq_df['method'] = final_freq_df['method'].replace({'mbarq_final_freq': 'mBARq',\n",
    "                                                          'final_freq': 'Original analysis'})\n",
    "fig = px.bar(final_freq_df, x=\"method\", y=\"Frequency\", color=\"barcode\", log_y=True, \n",
    "             color_discrete_map = jasinska_color_map, \n",
    "       facet_col='replicate', template=\"plotly_white\",\n",
    "       category_orders = {'replicate': ['Replicate 1', 'Replicate 2', 'Replicate 3']},\n",
    "             labels = { 'Frequency': 'Lineage frequency','method':''},\n",
    "            width=600, height=600\n",
    "      )\n",
    "fig.for_each_annotation(lambda a: a.update(text=a.text.split(\"=\")[-1]))\n",
    "fig.update_layout(showlegend=False)\n",
    "fig.update_xaxes(showline=True, linewidth=2, linecolor='black',\n",
    "                         tickfont=dict(size=24, color='black'), \n",
    "                \n",
    "                 titlefont=dict(size=24, color='black'))\n",
    "fig.update_yaxes(showline=True, linewidth=2, linecolor='black',\n",
    "                        tickfont=dict(size=18, color='black'), \n",
    "                \n",
    "                 titlefont=dict(size=24, color='black'))\n",
    "\n",
    "#fig.write_image(figures_dir/f\"{today}_Figure4C.png\", format ='png', scale=2 )"
   ]
  },
  {
   "cell_type": "markdown",
   "metadata": {},
   "source": [
    "## Graph correlation for average frequencies"
   ]
  },
  {
   "cell_type": "code",
   "execution_count": null,
   "metadata": {
    "ExecuteTime": {
     "end_time": "2023-06-27T13:24:09.768403Z",
     "start_time": "2023-06-27T13:24:09.477079Z"
    }
   },
   "outputs": [],
   "source": [
    "fig = px.scatter(mbarq_result, y='average_freq', x='mbarq_av_freq', log_x=True, log_y=True, \n",
    "                 labels={'mbarq_av_freq': 'Average lineage frequency (mBARq)',\n",
    "                        'average_freq': 'Average lineage frequency (original analysis)'},\n",
    "           color='barcode', template='plotly_white', width=700, height=700, color_discrete_map=jasinska_color_map)\n",
    "fig.update_layout(showlegend=False)\n",
    "fig.update_traces(marker=dict(size=14,\n",
    "                              line=dict(width=1,\n",
    "                                        color='DarkSlateGrey')),\n",
    "                  selector=dict(mode='markers'))\n",
    "\n",
    "\n",
    "fig.update_xaxes(showline=True, linewidth=2, linecolor='black',\n",
    "                         tickfont=dict(size=18, color='black'), \n",
    "                 range=[-3.5, 0.0],\n",
    "                 titlefont=dict(size=24, color='black'))\n",
    "fig.update_yaxes(showline=True, linewidth=2, linecolor='black',\n",
    "                        tickfont=dict(size=18, color='black'), \n",
    "                 range=[-3.5, 0.0],\n",
    "                 titlefont=dict(size=24, color='black'))\n",
    "\n",
    "fig.update_layout(legend=dict(font=dict(size=18)), legend_title=dict(font=dict(size=20)))\n",
    "\n",
    "\n",
    "#fig.write_image(figures_dir/f\"{today}_Figure4B.png\", format ='png', scale=2 )"
   ]
  }
 ],
 "metadata": {
  "kernelspec": {
   "display_name": "Python 3 (ipykernel)",
   "language": "python",
   "name": "python3"
  },
  "language_info": {
   "codemirror_mode": {
    "name": "ipython",
    "version": 3
   },
   "file_extension": ".py",
   "mimetype": "text/x-python",
   "name": "python",
   "nbconvert_exporter": "python",
   "pygments_lexer": "ipython3",
   "version": "3.8.12"
  },
  "toc": {
   "base_numbering": 1,
   "nav_menu": {},
   "number_sections": true,
   "sideBar": true,
   "skip_h1_title": false,
   "title_cell": "Table of Contents",
   "title_sidebar": "Contents",
   "toc_cell": false,
   "toc_position": {
    "height": "calc(100% - 180px)",
    "left": "10px",
    "top": "150px",
    "width": "189.268px"
   },
   "toc_section_display": true,
   "toc_window_display": true
  }
 },
 "nbformat": 4,
 "nbformat_minor": 4
}
